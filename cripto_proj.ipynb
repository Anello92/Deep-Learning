{
  "cells": [
    {
      "cell_type": "markdown",
      "metadata": {
        "id": "bZUTYqRGx7Pn",
        "papermill": {
          "duration": 0.009148,
          "end_time": "2021-01-09T23:01:20.421134",
          "exception": false,
          "start_time": "2021-01-09T23:01:20.411986",
          "status": "completed"
        },
        "tags": []
      },
      "source": [
        "# **<font color='white gray'>panData</font>**\n",
        "## <font color='white gray'>Deep Learning for Artificial Intelligence Applications with Python and C++</font>\n",
        "\n",
        "### <font color='white gray'>Deep Learning for Fraud Detection in Financial Transactions with Cryptocurrencies</font>\n"
      ]
    },
    {
      "cell_type": "markdown",
      "metadata": {
        "id": "4JicD8kSzI3p"
      },
      "source": [
        "## **Installing and Loading the Packages**\n"
      ]
    },
    {
      "cell_type": "code",
      "execution_count": 48,
      "metadata": {
        "id": "IJ5BadgNzI3q"
      },
      "outputs": [],
      "source": [
        "!pip install -q -U watermark"
      ]
    },
    {
      "cell_type": "code",
      "execution_count": 49,
      "metadata": {
        "colab": {
          "base_uri": "https://localhost:8080/"
        },
        "id": "QW-r0NnPzI3r",
        "outputId": "41c00b95-d072-416f-fda2-71d39c0b5a77"
      },
      "outputs": [
        {
          "output_type": "stream",
          "name": "stdout",
          "text": [
            "env: TF_CPP_MIN_LOG_LEVEL=3\n"
          ]
        }
      ],
      "source": [
        "%env TF_CPP_MIN_LOG_LEVEL=3"
      ]
    },
    {
      "cell_type": "code",
      "execution_count": 50,
      "metadata": {
        "_cell_guid": "b1076dfc-b9ad-4769-8c92-a6c4dae69d19",
        "_uuid": "8f2839f25d086af736a60e9eeb907d3b93b6e0e5",
        "execution": {
          "iopub.execute_input": "2021-01-09T23:01:20.447951Z",
          "iopub.status.busy": "2021-01-09T23:01:20.447378Z",
          "iopub.status.idle": "2021-01-09T23:01:22.653435Z",
          "shell.execute_reply": "2021-01-09T23:01:22.653878Z"
        },
        "id": "Fc2whys2x7Pn",
        "papermill": {
          "duration": 2.223615,
          "end_time": "2021-01-09T23:01:22.654007",
          "exception": false,
          "start_time": "2021-01-09T23:01:20.430392",
          "status": "completed"
        },
        "tags": []
      },
      "outputs": [],
      "source": [
        "# Imports\n",
        "import sklearn\n",
        "import numpy as np\n",
        "import pandas as pd\n",
        "import matplotlib.pyplot as plt\n",
        "import tensorflow as tf\n",
        "from keras.utils import to_categorical\n",
        "from keras.models import Sequential\n",
        "from keras.layers import Dense\n",
        "from keras import Input\n",
        "from sklearn.model_selection import train_test_split\n",
        "from sklearn.pipeline import Pipeline\n",
        "from sklearn.base import BaseEstimator, TransformerMixin\n",
        "from sklearn.preprocessing import StandardScaler\n",
        "from sklearn import metrics\n",
        "import warnings\n",
        "warnings.filterwarnings('ignore')"
      ]
    },
    {
      "cell_type": "code",
      "execution_count": 51,
      "metadata": {
        "colab": {
          "base_uri": "https://localhost:8080/"
        },
        "id": "8dKhOTYozI3t",
        "outputId": "c5cf9b09-2a21-4138-bc2f-a2be920271a1"
      },
      "outputs": [
        {
          "output_type": "stream",
          "name": "stdout",
          "text": [
            "Author: panData\n",
            "\n"
          ]
        }
      ],
      "source": [
        "%reload_ext watermark\n",
        "%watermark -a \"panData\""
      ]
    },
    {
      "cell_type": "markdown",
      "metadata": {
        "id": "MyO-9Hp8zI3u"
      },
      "source": [
        "## **Loading and Understanding the Data**\n"
      ]
    },
    {
      "cell_type": "code",
      "execution_count": 52,
      "metadata": {
        "_cell_guid": "79c7e3d0-c299-4dcb-8224-4455121ee9b0",
        "_uuid": "d629ff2d2480ee46fbb7e2d37f6b5fab8052498a",
        "execution": {
          "iopub.execute_input": "2021-01-09T23:01:22.670890Z",
          "iopub.status.busy": "2021-01-09T23:01:22.670300Z",
          "iopub.status.idle": "2021-01-09T23:01:22.767077Z",
          "shell.execute_reply": "2021-01-09T23:01:22.766547Z"
        },
        "id": "HH3lnR8wx7Pn",
        "papermill": {
          "duration": 0.105625,
          "end_time": "2021-01-09T23:01:22.767205",
          "exception": false,
          "start_time": "2021-01-09T23:01:22.661580",
          "status": "completed"
        },
        "tags": []
      },
      "outputs": [],
      "source": [
        "# Load the data\n",
        "df = pd.read_csv('dataset.csv')"
      ]
    },
    {
      "cell_type": "code",
      "execution_count": 53,
      "metadata": {
        "colab": {
          "base_uri": "https://localhost:8080/"
        },
        "id": "piuuStmrzI3u",
        "outputId": "eff22c16-8382-4b7b-ccc9-dd9bf1f25d3f"
      },
      "outputs": [
        {
          "output_type": "execute_result",
          "data": {
            "text/plain": [
              "(9841, 51)"
            ]
          },
          "metadata": {},
          "execution_count": 53
        }
      ],
      "source": [
        "# Shape\n",
        "df.shape"
      ]
    },
    {
      "cell_type": "code",
      "execution_count": 54,
      "metadata": {
        "id": "M510kxxTzI3v"
      },
      "outputs": [],
      "source": [
        "# Load the data\n",
        "df = pd.read_csv('dataset.csv')"
      ]
    },
    {
      "cell_type": "code",
      "execution_count": 55,
      "metadata": {
        "colab": {
          "base_uri": "https://localhost:8080/",
          "height": 205
        },
        "id": "5PnkQ0oqzI3v",
        "outputId": "0ce25129-7e47-402e-fb59-dc3978bede1d"
      },
      "outputs": [
        {
          "output_type": "execute_result",
          "data": {
            "text/plain": [
              "FLAG\n",
              "0    7662\n",
              "1    2179\n",
              "Name: count, dtype: int64"
            ],
            "text/html": [
              "<div>\n",
              "<style scoped>\n",
              "    .dataframe tbody tr th:only-of-type {\n",
              "        vertical-align: middle;\n",
              "    }\n",
              "\n",
              "    .dataframe tbody tr th {\n",
              "        vertical-align: top;\n",
              "    }\n",
              "\n",
              "    .dataframe thead th {\n",
              "        text-align: right;\n",
              "    }\n",
              "</style>\n",
              "<table border=\"1\" class=\"dataframe\">\n",
              "  <thead>\n",
              "    <tr style=\"text-align: right;\">\n",
              "      <th></th>\n",
              "      <th>count</th>\n",
              "    </tr>\n",
              "    <tr>\n",
              "      <th>FLAG</th>\n",
              "      <th></th>\n",
              "    </tr>\n",
              "  </thead>\n",
              "  <tbody>\n",
              "    <tr>\n",
              "      <th>0</th>\n",
              "      <td>7662</td>\n",
              "    </tr>\n",
              "    <tr>\n",
              "      <th>1</th>\n",
              "      <td>2179</td>\n",
              "    </tr>\n",
              "  </tbody>\n",
              "</table>\n",
              "</div><br><label><b>dtype:</b> int64</label>"
            ]
          },
          "metadata": {},
          "execution_count": 55
        }
      ],
      "source": [
        "# Target variable\n",
        "df.FLAG.value_counts()"
      ]
    },
    {
      "cell_type": "code",
      "execution_count": 56,
      "metadata": {
        "colab": {
          "base_uri": "https://localhost:8080/"
        },
        "id": "p-S9ZXZBzI3w",
        "outputId": "3d774a95-b658-4a75-c171-f0cfbba7a343"
      },
      "outputs": [
        {
          "output_type": "stream",
          "name": "stdout",
          "text": [
            "<class 'pandas.core.frame.DataFrame'>\n",
            "RangeIndex: 9841 entries, 0 to 9840\n",
            "Data columns (total 51 columns):\n",
            " #   Column                                                Non-Null Count  Dtype  \n",
            "---  ------                                                --------------  -----  \n",
            " 0   Unnamed: 0                                            9841 non-null   int64  \n",
            " 1   Index                                                 9841 non-null   int64  \n",
            " 2   Address                                               9841 non-null   object \n",
            " 3   FLAG                                                  9841 non-null   int64  \n",
            " 4   Avg min between sent tnx                              9841 non-null   float64\n",
            " 5   Avg min between received tnx                          9841 non-null   float64\n",
            " 6   Time Diff between first and last (Mins)               9841 non-null   float64\n",
            " 7   Sent tnx                                              9841 non-null   int64  \n",
            " 8   Received Tnx                                          9841 non-null   int64  \n",
            " 9   Number of Created Contracts                           9841 non-null   int64  \n",
            " 10  Unique Received From Addresses                        9841 non-null   int64  \n",
            " 11  Unique Sent To Addresses                              9841 non-null   int64  \n",
            " 12  min value received                                    9841 non-null   float64\n",
            " 13  max value received                                    9841 non-null   float64\n",
            " 14  avg val received                                      9841 non-null   float64\n",
            " 15  min val sent                                          9841 non-null   float64\n",
            " 16  max val sent                                          9841 non-null   float64\n",
            " 17  avg val sent                                          9841 non-null   float64\n",
            " 18  min value sent to contract                            9841 non-null   float64\n",
            " 19  max val sent to contract                              9841 non-null   float64\n",
            " 20  avg value sent to contract                            9841 non-null   float64\n",
            " 21  total transactions (including tnx to create contract  9841 non-null   int64  \n",
            " 22  total Ether sent                                      9841 non-null   float64\n",
            " 23  total ether received                                  9841 non-null   float64\n",
            " 24  total ether sent contracts                            9841 non-null   float64\n",
            " 25  total ether balance                                   9841 non-null   float64\n",
            " 26   Total ERC20 tnxs                                     9012 non-null   float64\n",
            " 27   ERC20 total Ether received                           9012 non-null   float64\n",
            " 28   ERC20 total ether sent                               9012 non-null   float64\n",
            " 29   ERC20 total Ether sent contract                      9012 non-null   float64\n",
            " 30   ERC20 uniq sent addr                                 9012 non-null   float64\n",
            " 31   ERC20 uniq rec addr                                  9012 non-null   float64\n",
            " 32   ERC20 uniq sent addr.1                               9012 non-null   float64\n",
            " 33   ERC20 uniq rec contract addr                         9012 non-null   float64\n",
            " 34   ERC20 avg time between sent tnx                      9012 non-null   float64\n",
            " 35   ERC20 avg time between rec tnx                       9012 non-null   float64\n",
            " 36   ERC20 avg time between rec 2 tnx                     9012 non-null   float64\n",
            " 37   ERC20 avg time between contract tnx                  9012 non-null   float64\n",
            " 38   ERC20 min val rec                                    9012 non-null   float64\n",
            " 39   ERC20 max val rec                                    9012 non-null   float64\n",
            " 40   ERC20 avg val rec                                    9012 non-null   float64\n",
            " 41   ERC20 min val sent                                   9012 non-null   float64\n",
            " 42   ERC20 max val sent                                   9012 non-null   float64\n",
            " 43   ERC20 avg val sent                                   9012 non-null   float64\n",
            " 44   ERC20 min val sent contract                          9012 non-null   float64\n",
            " 45   ERC20 max val sent contract                          9012 non-null   float64\n",
            " 46   ERC20 avg val sent contract                          9012 non-null   float64\n",
            " 47   ERC20 uniq sent token name                           9012 non-null   float64\n",
            " 48   ERC20 uniq rec token name                            9012 non-null   float64\n",
            " 49   ERC20 most sent token type                           7144 non-null   object \n",
            " 50   ERC20_most_rec_token_type                            8970 non-null   object \n",
            "dtypes: float64(39), int64(9), object(3)\n",
            "memory usage: 3.8+ MB\n"
          ]
        }
      ],
      "source": [
        "df.info()"
      ]
    },
    {
      "cell_type": "markdown",
      "metadata": {
        "id": "rLTi3-LOzI3w"
      },
      "source": [
        "## **Cleaning Data**"
      ]
    },
    {
      "cell_type": "code",
      "execution_count": 57,
      "metadata": {
        "colab": {
          "base_uri": "https://localhost:8080/",
          "height": 410
        },
        "id": "IRb0ZaDfzI3w",
        "outputId": "09292d7e-94cd-45c9-9635-843e2de5da80"
      },
      "outputs": [
        {
          "output_type": "execute_result",
          "data": {
            "text/plain": [
              "   Unnamed: 0  Index                                     Address  FLAG  \\\n",
              "0           0      1  0x00009277775ac7d0d59eaad8fee3d10ac6c805e8     0   \n",
              "1           1      2  0x0002b44ddb1476db43c868bd494422ee4c136fed     0   \n",
              "2           2      3  0x0002bda54cb772d040f779e88eb453cac0daa244     0   \n",
              "3           3      4  0x00038e6ba2fd5c09aedb96697c8d7b8fa6632e5e     0   \n",
              "4           4      5  0x00062d1dd1afb6fb02540ddad9cdebfe568e0d89     0   \n",
              "\n",
              "   Avg min between sent tnx  Avg min between received tnx  \\\n",
              "0                    844.26                       1093.71   \n",
              "1                  12709.07                       2958.44   \n",
              "2                 246194.54                       2434.02   \n",
              "3                  10219.60                      15785.09   \n",
              "4                     36.61                      10707.77   \n",
              "\n",
              "   Time Diff between first and last (Mins)  Sent tnx  Received Tnx  \\\n",
              "0                                704785.63       721            89   \n",
              "1                               1218216.73        94             8   \n",
              "2                                516729.30         2            10   \n",
              "3                                397555.90        25             9   \n",
              "4                                382472.42      4598            20   \n",
              "\n",
              "   Number of Created Contracts  ...   ERC20 min val sent   ERC20 max val sent  \\\n",
              "0                            0  ...             0.000000         1.683100e+07   \n",
              "1                            0  ...             2.260809         2.260809e+00   \n",
              "2                            0  ...             0.000000         0.000000e+00   \n",
              "3                            0  ...           100.000000         9.029231e+03   \n",
              "4                            1  ...             0.000000         4.500000e+04   \n",
              "\n",
              "    ERC20 avg val sent   ERC20 min val sent contract  \\\n",
              "0        271779.920000                           0.0   \n",
              "1             2.260809                           0.0   \n",
              "2             0.000000                           0.0   \n",
              "3          3804.076893                           0.0   \n",
              "4         13726.659220                           0.0   \n",
              "\n",
              "    ERC20 max val sent contract   ERC20 avg val sent contract  \\\n",
              "0                           0.0                           0.0   \n",
              "1                           0.0                           0.0   \n",
              "2                           0.0                           0.0   \n",
              "3                           0.0                           0.0   \n",
              "4                           0.0                           0.0   \n",
              "\n",
              "    ERC20 uniq sent token name   ERC20 uniq rec token name  \\\n",
              "0                         39.0                        57.0   \n",
              "1                          1.0                         7.0   \n",
              "2                          0.0                         8.0   \n",
              "3                          1.0                        11.0   \n",
              "4                          6.0                        27.0   \n",
              "\n",
              "    ERC20 most sent token type   ERC20_most_rec_token_type  \n",
              "0                    Cofoundit                   Numeraire  \n",
              "1               Livepeer Token              Livepeer Token  \n",
              "2                          NaN                       XENON  \n",
              "3                       Raiden                       XENON  \n",
              "4                StatusNetwork                         EOS  \n",
              "\n",
              "[5 rows x 51 columns]"
            ],
            "text/html": [
              "\n",
              "  <div id=\"df-20fa6444-f6d4-4218-b1b8-6f1bd6cf35fc\" class=\"colab-df-container\">\n",
              "    <div>\n",
              "<style scoped>\n",
              "    .dataframe tbody tr th:only-of-type {\n",
              "        vertical-align: middle;\n",
              "    }\n",
              "\n",
              "    .dataframe tbody tr th {\n",
              "        vertical-align: top;\n",
              "    }\n",
              "\n",
              "    .dataframe thead th {\n",
              "        text-align: right;\n",
              "    }\n",
              "</style>\n",
              "<table border=\"1\" class=\"dataframe\">\n",
              "  <thead>\n",
              "    <tr style=\"text-align: right;\">\n",
              "      <th></th>\n",
              "      <th>Unnamed: 0</th>\n",
              "      <th>Index</th>\n",
              "      <th>Address</th>\n",
              "      <th>FLAG</th>\n",
              "      <th>Avg min between sent tnx</th>\n",
              "      <th>Avg min between received tnx</th>\n",
              "      <th>Time Diff between first and last (Mins)</th>\n",
              "      <th>Sent tnx</th>\n",
              "      <th>Received Tnx</th>\n",
              "      <th>Number of Created Contracts</th>\n",
              "      <th>...</th>\n",
              "      <th>ERC20 min val sent</th>\n",
              "      <th>ERC20 max val sent</th>\n",
              "      <th>ERC20 avg val sent</th>\n",
              "      <th>ERC20 min val sent contract</th>\n",
              "      <th>ERC20 max val sent contract</th>\n",
              "      <th>ERC20 avg val sent contract</th>\n",
              "      <th>ERC20 uniq sent token name</th>\n",
              "      <th>ERC20 uniq rec token name</th>\n",
              "      <th>ERC20 most sent token type</th>\n",
              "      <th>ERC20_most_rec_token_type</th>\n",
              "    </tr>\n",
              "  </thead>\n",
              "  <tbody>\n",
              "    <tr>\n",
              "      <th>0</th>\n",
              "      <td>0</td>\n",
              "      <td>1</td>\n",
              "      <td>0x00009277775ac7d0d59eaad8fee3d10ac6c805e8</td>\n",
              "      <td>0</td>\n",
              "      <td>844.26</td>\n",
              "      <td>1093.71</td>\n",
              "      <td>704785.63</td>\n",
              "      <td>721</td>\n",
              "      <td>89</td>\n",
              "      <td>0</td>\n",
              "      <td>...</td>\n",
              "      <td>0.000000</td>\n",
              "      <td>1.683100e+07</td>\n",
              "      <td>271779.920000</td>\n",
              "      <td>0.0</td>\n",
              "      <td>0.0</td>\n",
              "      <td>0.0</td>\n",
              "      <td>39.0</td>\n",
              "      <td>57.0</td>\n",
              "      <td>Cofoundit</td>\n",
              "      <td>Numeraire</td>\n",
              "    </tr>\n",
              "    <tr>\n",
              "      <th>1</th>\n",
              "      <td>1</td>\n",
              "      <td>2</td>\n",
              "      <td>0x0002b44ddb1476db43c868bd494422ee4c136fed</td>\n",
              "      <td>0</td>\n",
              "      <td>12709.07</td>\n",
              "      <td>2958.44</td>\n",
              "      <td>1218216.73</td>\n",
              "      <td>94</td>\n",
              "      <td>8</td>\n",
              "      <td>0</td>\n",
              "      <td>...</td>\n",
              "      <td>2.260809</td>\n",
              "      <td>2.260809e+00</td>\n",
              "      <td>2.260809</td>\n",
              "      <td>0.0</td>\n",
              "      <td>0.0</td>\n",
              "      <td>0.0</td>\n",
              "      <td>1.0</td>\n",
              "      <td>7.0</td>\n",
              "      <td>Livepeer Token</td>\n",
              "      <td>Livepeer Token</td>\n",
              "    </tr>\n",
              "    <tr>\n",
              "      <th>2</th>\n",
              "      <td>2</td>\n",
              "      <td>3</td>\n",
              "      <td>0x0002bda54cb772d040f779e88eb453cac0daa244</td>\n",
              "      <td>0</td>\n",
              "      <td>246194.54</td>\n",
              "      <td>2434.02</td>\n",
              "      <td>516729.30</td>\n",
              "      <td>2</td>\n",
              "      <td>10</td>\n",
              "      <td>0</td>\n",
              "      <td>...</td>\n",
              "      <td>0.000000</td>\n",
              "      <td>0.000000e+00</td>\n",
              "      <td>0.000000</td>\n",
              "      <td>0.0</td>\n",
              "      <td>0.0</td>\n",
              "      <td>0.0</td>\n",
              "      <td>0.0</td>\n",
              "      <td>8.0</td>\n",
              "      <td>NaN</td>\n",
              "      <td>XENON</td>\n",
              "    </tr>\n",
              "    <tr>\n",
              "      <th>3</th>\n",
              "      <td>3</td>\n",
              "      <td>4</td>\n",
              "      <td>0x00038e6ba2fd5c09aedb96697c8d7b8fa6632e5e</td>\n",
              "      <td>0</td>\n",
              "      <td>10219.60</td>\n",
              "      <td>15785.09</td>\n",
              "      <td>397555.90</td>\n",
              "      <td>25</td>\n",
              "      <td>9</td>\n",
              "      <td>0</td>\n",
              "      <td>...</td>\n",
              "      <td>100.000000</td>\n",
              "      <td>9.029231e+03</td>\n",
              "      <td>3804.076893</td>\n",
              "      <td>0.0</td>\n",
              "      <td>0.0</td>\n",
              "      <td>0.0</td>\n",
              "      <td>1.0</td>\n",
              "      <td>11.0</td>\n",
              "      <td>Raiden</td>\n",
              "      <td>XENON</td>\n",
              "    </tr>\n",
              "    <tr>\n",
              "      <th>4</th>\n",
              "      <td>4</td>\n",
              "      <td>5</td>\n",
              "      <td>0x00062d1dd1afb6fb02540ddad9cdebfe568e0d89</td>\n",
              "      <td>0</td>\n",
              "      <td>36.61</td>\n",
              "      <td>10707.77</td>\n",
              "      <td>382472.42</td>\n",
              "      <td>4598</td>\n",
              "      <td>20</td>\n",
              "      <td>1</td>\n",
              "      <td>...</td>\n",
              "      <td>0.000000</td>\n",
              "      <td>4.500000e+04</td>\n",
              "      <td>13726.659220</td>\n",
              "      <td>0.0</td>\n",
              "      <td>0.0</td>\n",
              "      <td>0.0</td>\n",
              "      <td>6.0</td>\n",
              "      <td>27.0</td>\n",
              "      <td>StatusNetwork</td>\n",
              "      <td>EOS</td>\n",
              "    </tr>\n",
              "  </tbody>\n",
              "</table>\n",
              "<p>5 rows × 51 columns</p>\n",
              "</div>\n",
              "    <div class=\"colab-df-buttons\">\n",
              "\n",
              "  <div class=\"colab-df-container\">\n",
              "    <button class=\"colab-df-convert\" onclick=\"convertToInteractive('df-20fa6444-f6d4-4218-b1b8-6f1bd6cf35fc')\"\n",
              "            title=\"Convert this dataframe to an interactive table.\"\n",
              "            style=\"display:none;\">\n",
              "\n",
              "  <svg xmlns=\"http://www.w3.org/2000/svg\" height=\"24px\" viewBox=\"0 -960 960 960\">\n",
              "    <path d=\"M120-120v-720h720v720H120Zm60-500h600v-160H180v160Zm220 220h160v-160H400v160Zm0 220h160v-160H400v160ZM180-400h160v-160H180v160Zm440 0h160v-160H620v160ZM180-180h160v-160H180v160Zm440 0h160v-160H620v160Z\"/>\n",
              "  </svg>\n",
              "    </button>\n",
              "\n",
              "  <style>\n",
              "    .colab-df-container {\n",
              "      display:flex;\n",
              "      gap: 12px;\n",
              "    }\n",
              "\n",
              "    .colab-df-convert {\n",
              "      background-color: #E8F0FE;\n",
              "      border: none;\n",
              "      border-radius: 50%;\n",
              "      cursor: pointer;\n",
              "      display: none;\n",
              "      fill: #1967D2;\n",
              "      height: 32px;\n",
              "      padding: 0 0 0 0;\n",
              "      width: 32px;\n",
              "    }\n",
              "\n",
              "    .colab-df-convert:hover {\n",
              "      background-color: #E2EBFA;\n",
              "      box-shadow: 0px 1px 2px rgba(60, 64, 67, 0.3), 0px 1px 3px 1px rgba(60, 64, 67, 0.15);\n",
              "      fill: #174EA6;\n",
              "    }\n",
              "\n",
              "    .colab-df-buttons div {\n",
              "      margin-bottom: 4px;\n",
              "    }\n",
              "\n",
              "    [theme=dark] .colab-df-convert {\n",
              "      background-color: #3B4455;\n",
              "      fill: #D2E3FC;\n",
              "    }\n",
              "\n",
              "    [theme=dark] .colab-df-convert:hover {\n",
              "      background-color: #434B5C;\n",
              "      box-shadow: 0px 1px 3px 1px rgba(0, 0, 0, 0.15);\n",
              "      filter: drop-shadow(0px 1px 2px rgba(0, 0, 0, 0.3));\n",
              "      fill: #FFFFFF;\n",
              "    }\n",
              "  </style>\n",
              "\n",
              "    <script>\n",
              "      const buttonEl =\n",
              "        document.querySelector('#df-20fa6444-f6d4-4218-b1b8-6f1bd6cf35fc button.colab-df-convert');\n",
              "      buttonEl.style.display =\n",
              "        google.colab.kernel.accessAllowed ? 'block' : 'none';\n",
              "\n",
              "      async function convertToInteractive(key) {\n",
              "        const element = document.querySelector('#df-20fa6444-f6d4-4218-b1b8-6f1bd6cf35fc');\n",
              "        const dataTable =\n",
              "          await google.colab.kernel.invokeFunction('convertToInteractive',\n",
              "                                                    [key], {});\n",
              "        if (!dataTable) return;\n",
              "\n",
              "        const docLinkHtml = 'Like what you see? Visit the ' +\n",
              "          '<a target=\"_blank\" href=https://colab.research.google.com/notebooks/data_table.ipynb>data table notebook</a>'\n",
              "          + ' to learn more about interactive tables.';\n",
              "        element.innerHTML = '';\n",
              "        dataTable['output_type'] = 'display_data';\n",
              "        await google.colab.output.renderOutput(dataTable, element);\n",
              "        const docLink = document.createElement('div');\n",
              "        docLink.innerHTML = docLinkHtml;\n",
              "        element.appendChild(docLink);\n",
              "      }\n",
              "    </script>\n",
              "  </div>\n",
              "\n",
              "\n",
              "<div id=\"df-c04a3168-8c9f-4b24-b699-dd762e77363c\">\n",
              "  <button class=\"colab-df-quickchart\" onclick=\"quickchart('df-c04a3168-8c9f-4b24-b699-dd762e77363c')\"\n",
              "            title=\"Suggest charts\"\n",
              "            style=\"display:none;\">\n",
              "\n",
              "<svg xmlns=\"http://www.w3.org/2000/svg\" height=\"24px\"viewBox=\"0 0 24 24\"\n",
              "     width=\"24px\">\n",
              "    <g>\n",
              "        <path d=\"M19 3H5c-1.1 0-2 .9-2 2v14c0 1.1.9 2 2 2h14c1.1 0 2-.9 2-2V5c0-1.1-.9-2-2-2zM9 17H7v-7h2v7zm4 0h-2V7h2v10zm4 0h-2v-4h2v4z\"/>\n",
              "    </g>\n",
              "</svg>\n",
              "  </button>\n",
              "\n",
              "<style>\n",
              "  .colab-df-quickchart {\n",
              "      --bg-color: #E8F0FE;\n",
              "      --fill-color: #1967D2;\n",
              "      --hover-bg-color: #E2EBFA;\n",
              "      --hover-fill-color: #174EA6;\n",
              "      --disabled-fill-color: #AAA;\n",
              "      --disabled-bg-color: #DDD;\n",
              "  }\n",
              "\n",
              "  [theme=dark] .colab-df-quickchart {\n",
              "      --bg-color: #3B4455;\n",
              "      --fill-color: #D2E3FC;\n",
              "      --hover-bg-color: #434B5C;\n",
              "      --hover-fill-color: #FFFFFF;\n",
              "      --disabled-bg-color: #3B4455;\n",
              "      --disabled-fill-color: #666;\n",
              "  }\n",
              "\n",
              "  .colab-df-quickchart {\n",
              "    background-color: var(--bg-color);\n",
              "    border: none;\n",
              "    border-radius: 50%;\n",
              "    cursor: pointer;\n",
              "    display: none;\n",
              "    fill: var(--fill-color);\n",
              "    height: 32px;\n",
              "    padding: 0;\n",
              "    width: 32px;\n",
              "  }\n",
              "\n",
              "  .colab-df-quickchart:hover {\n",
              "    background-color: var(--hover-bg-color);\n",
              "    box-shadow: 0 1px 2px rgba(60, 64, 67, 0.3), 0 1px 3px 1px rgba(60, 64, 67, 0.15);\n",
              "    fill: var(--button-hover-fill-color);\n",
              "  }\n",
              "\n",
              "  .colab-df-quickchart-complete:disabled,\n",
              "  .colab-df-quickchart-complete:disabled:hover {\n",
              "    background-color: var(--disabled-bg-color);\n",
              "    fill: var(--disabled-fill-color);\n",
              "    box-shadow: none;\n",
              "  }\n",
              "\n",
              "  .colab-df-spinner {\n",
              "    border: 2px solid var(--fill-color);\n",
              "    border-color: transparent;\n",
              "    border-bottom-color: var(--fill-color);\n",
              "    animation:\n",
              "      spin 1s steps(1) infinite;\n",
              "  }\n",
              "\n",
              "  @keyframes spin {\n",
              "    0% {\n",
              "      border-color: transparent;\n",
              "      border-bottom-color: var(--fill-color);\n",
              "      border-left-color: var(--fill-color);\n",
              "    }\n",
              "    20% {\n",
              "      border-color: transparent;\n",
              "      border-left-color: var(--fill-color);\n",
              "      border-top-color: var(--fill-color);\n",
              "    }\n",
              "    30% {\n",
              "      border-color: transparent;\n",
              "      border-left-color: var(--fill-color);\n",
              "      border-top-color: var(--fill-color);\n",
              "      border-right-color: var(--fill-color);\n",
              "    }\n",
              "    40% {\n",
              "      border-color: transparent;\n",
              "      border-right-color: var(--fill-color);\n",
              "      border-top-color: var(--fill-color);\n",
              "    }\n",
              "    60% {\n",
              "      border-color: transparent;\n",
              "      border-right-color: var(--fill-color);\n",
              "    }\n",
              "    80% {\n",
              "      border-color: transparent;\n",
              "      border-right-color: var(--fill-color);\n",
              "      border-bottom-color: var(--fill-color);\n",
              "    }\n",
              "    90% {\n",
              "      border-color: transparent;\n",
              "      border-bottom-color: var(--fill-color);\n",
              "    }\n",
              "  }\n",
              "</style>\n",
              "\n",
              "  <script>\n",
              "    async function quickchart(key) {\n",
              "      const quickchartButtonEl =\n",
              "        document.querySelector('#' + key + ' button');\n",
              "      quickchartButtonEl.disabled = true;  // To prevent multiple clicks.\n",
              "      quickchartButtonEl.classList.add('colab-df-spinner');\n",
              "      try {\n",
              "        const charts = await google.colab.kernel.invokeFunction(\n",
              "            'suggestCharts', [key], {});\n",
              "      } catch (error) {\n",
              "        console.error('Error during call to suggestCharts:', error);\n",
              "      }\n",
              "      quickchartButtonEl.classList.remove('colab-df-spinner');\n",
              "      quickchartButtonEl.classList.add('colab-df-quickchart-complete');\n",
              "    }\n",
              "    (() => {\n",
              "      let quickchartButtonEl =\n",
              "        document.querySelector('#df-c04a3168-8c9f-4b24-b699-dd762e77363c button');\n",
              "      quickchartButtonEl.style.display =\n",
              "        google.colab.kernel.accessAllowed ? 'block' : 'none';\n",
              "    })();\n",
              "  </script>\n",
              "</div>\n",
              "\n",
              "    </div>\n",
              "  </div>\n"
            ],
            "application/vnd.google.colaboratory.intrinsic+json": {
              "type": "dataframe",
              "variable_name": "df"
            }
          },
          "metadata": {},
          "execution_count": 57
        }
      ],
      "source": [
        "# View the first rows\n",
        "df.head()"
      ]
    },
    {
      "cell_type": "code",
      "execution_count": 58,
      "metadata": {
        "id": "3V8HZ6eUzI3x"
      },
      "outputs": [],
      "source": [
        "# Adjust column names to lowercase\n",
        "df.columns = [x.lower() for x in df.columns]"
      ]
    },
    {
      "cell_type": "code",
      "execution_count": 59,
      "metadata": {
        "execution": {
          "iopub.execute_input": "2021-01-09T23:01:22.796118Z",
          "iopub.status.busy": "2021-01-09T23:01:22.795229Z",
          "iopub.status.idle": "2021-01-09T23:01:22.850031Z",
          "shell.execute_reply": "2021-01-09T23:01:22.849281Z"
        },
        "id": "J-du5_BKx7Pn",
        "papermill": {
          "duration": 0.072717,
          "end_time": "2021-01-09T23:01:22.850115",
          "exception": false,
          "start_time": "2021-01-09T23:01:22.777398",
          "status": "completed"
        },
        "tags": []
      },
      "outputs": [],
      "source": [
        "# These columns will not be relevant for analysis\n",
        "cols_to_drop = ['erc20 most sent token type',\n",
        "                'erc20_most_rec_token_type',\n",
        "                'address',\n",
        "                'index',\n",
        "                'unnamed: 0']"
      ]
    },
    {
      "cell_type": "code",
      "execution_count": 60,
      "metadata": {
        "id": "QoqwJFM6zI3x"
      },
      "outputs": [],
      "source": [
        "# Select attributes by filtering out columns to be dropped and the target variable\n",
        "attributes = [x for x in df.columns if (x != 'flag' and x not in cols_to_drop)]"
      ]
    },
    {
      "cell_type": "code",
      "execution_count": 61,
      "metadata": {
        "colab": {
          "base_uri": "https://localhost:8080/"
        },
        "id": "aiMtCsG6zI3x",
        "outputId": "f7779308-fbe8-489d-9a43-1ef435da331b"
      },
      "outputs": [
        {
          "output_type": "execute_result",
          "data": {
            "text/plain": [
              "['avg min between sent tnx',\n",
              " 'avg min between received tnx',\n",
              " 'time diff between first and last (mins)',\n",
              " 'sent tnx',\n",
              " 'received tnx',\n",
              " 'number of created contracts',\n",
              " 'unique received from addresses',\n",
              " 'unique sent to addresses',\n",
              " 'min value received',\n",
              " 'max value received ',\n",
              " 'avg val received',\n",
              " 'min val sent',\n",
              " 'max val sent',\n",
              " 'avg val sent',\n",
              " 'min value sent to contract',\n",
              " 'max val sent to contract',\n",
              " 'avg value sent to contract',\n",
              " 'total transactions (including tnx to create contract',\n",
              " 'total ether sent',\n",
              " 'total ether received',\n",
              " 'total ether sent contracts',\n",
              " 'total ether balance',\n",
              " ' total erc20 tnxs',\n",
              " ' erc20 total ether received',\n",
              " ' erc20 total ether sent',\n",
              " ' erc20 total ether sent contract',\n",
              " ' erc20 uniq sent addr',\n",
              " ' erc20 uniq rec addr',\n",
              " ' erc20 uniq sent addr.1',\n",
              " ' erc20 uniq rec contract addr',\n",
              " ' erc20 avg time between sent tnx',\n",
              " ' erc20 avg time between rec tnx',\n",
              " ' erc20 avg time between rec 2 tnx',\n",
              " ' erc20 avg time between contract tnx',\n",
              " ' erc20 min val rec',\n",
              " ' erc20 max val rec',\n",
              " ' erc20 avg val rec',\n",
              " ' erc20 min val sent',\n",
              " ' erc20 max val sent',\n",
              " ' erc20 avg val sent',\n",
              " ' erc20 min val sent contract',\n",
              " ' erc20 max val sent contract',\n",
              " ' erc20 avg val sent contract',\n",
              " ' erc20 uniq sent token name',\n",
              " ' erc20 uniq rec token name',\n",
              " ' erc20 most sent token type',\n",
              " ' erc20_most_rec_token_type']"
            ]
          },
          "metadata": {},
          "execution_count": 61
        }
      ],
      "source": [
        "attributes"
      ]
    },
    {
      "cell_type": "code",
      "execution_count": 62,
      "metadata": {
        "id": "5orak4lEzI3y"
      },
      "outputs": [],
      "source": [
        "# Extract unique values\n",
        "unique_values = df.nunique()"
      ]
    },
    {
      "cell_type": "code",
      "execution_count": 63,
      "metadata": {
        "colab": {
          "base_uri": "https://localhost:8080/",
          "height": 1000
        },
        "id": "gZvOTuTDzI3y",
        "outputId": "f63e693f-ab09-49b2-e4c9-cdd7754dad07"
      },
      "outputs": [
        {
          "output_type": "execute_result",
          "data": {
            "text/plain": [
              "unnamed: 0                                              9841\n",
              "index                                                   4729\n",
              "address                                                 9816\n",
              "flag                                                       2\n",
              "avg min between sent tnx                                5013\n",
              "avg min between received tnx                            6223\n",
              "time diff between first and last (mins)                 7810\n",
              "sent tnx                                                 641\n",
              "received tnx                                             727\n",
              "number of created contracts                               20\n",
              "unique received from addresses                           256\n",
              "unique sent to addresses                                 258\n",
              "min value received                                      4589\n",
              "max value received                                      6302\n",
              "avg val received                                        6767\n",
              "min val sent                                            4719\n",
              "max val sent                                            6647\n",
              "avg val sent                                            5854\n",
              "min value sent to contract                                 3\n",
              "max val sent to contract                                   4\n",
              "avg value sent to contract                                 4\n",
              "total transactions (including tnx to create contract     897\n",
              "total ether sent                                        5868\n",
              "total ether received                                    6728\n",
              "total ether sent contracts                                 4\n",
              "total ether balance                                     5717\n",
              " total erc20 tnxs                                        300\n",
              " erc20 total ether received                             3460\n",
              " erc20 total ether sent                                 1415\n",
              " erc20 total ether sent contract                          29\n",
              " erc20 uniq sent addr                                    107\n",
              " erc20 uniq rec addr                                     147\n",
              " erc20 uniq sent addr.1                                    4\n",
              " erc20 uniq rec contract addr                            123\n",
              " erc20 avg time between sent tnx                           1\n",
              " erc20 avg time between rec tnx                            1\n",
              " erc20 avg time between rec 2 tnx                          1\n",
              " erc20 avg time between contract tnx                       1\n",
              " erc20 min val rec                                      1276\n",
              " erc20 max val rec                                      2647\n",
              " erc20 avg val rec                                      3380\n",
              " erc20 min val sent                                      476\n",
              " erc20 max val sent                                     1130\n",
              " erc20 avg val sent                                     1309\n",
              " erc20 min val sent contract                               1\n",
              " erc20 max val sent contract                               1\n",
              " erc20 avg val sent contract                               1\n",
              " erc20 uniq sent token name                               70\n",
              " erc20 uniq rec token name                               121\n",
              " erc20 most sent token type                              304\n",
              " erc20_most_rec_token_type                               466\n",
              "dtype: int64"
            ],
            "text/html": [
              "<div>\n",
              "<style scoped>\n",
              "    .dataframe tbody tr th:only-of-type {\n",
              "        vertical-align: middle;\n",
              "    }\n",
              "\n",
              "    .dataframe tbody tr th {\n",
              "        vertical-align: top;\n",
              "    }\n",
              "\n",
              "    .dataframe thead th {\n",
              "        text-align: right;\n",
              "    }\n",
              "</style>\n",
              "<table border=\"1\" class=\"dataframe\">\n",
              "  <thead>\n",
              "    <tr style=\"text-align: right;\">\n",
              "      <th></th>\n",
              "      <th>0</th>\n",
              "    </tr>\n",
              "  </thead>\n",
              "  <tbody>\n",
              "    <tr>\n",
              "      <th>unnamed: 0</th>\n",
              "      <td>9841</td>\n",
              "    </tr>\n",
              "    <tr>\n",
              "      <th>index</th>\n",
              "      <td>4729</td>\n",
              "    </tr>\n",
              "    <tr>\n",
              "      <th>address</th>\n",
              "      <td>9816</td>\n",
              "    </tr>\n",
              "    <tr>\n",
              "      <th>flag</th>\n",
              "      <td>2</td>\n",
              "    </tr>\n",
              "    <tr>\n",
              "      <th>avg min between sent tnx</th>\n",
              "      <td>5013</td>\n",
              "    </tr>\n",
              "    <tr>\n",
              "      <th>avg min between received tnx</th>\n",
              "      <td>6223</td>\n",
              "    </tr>\n",
              "    <tr>\n",
              "      <th>time diff between first and last (mins)</th>\n",
              "      <td>7810</td>\n",
              "    </tr>\n",
              "    <tr>\n",
              "      <th>sent tnx</th>\n",
              "      <td>641</td>\n",
              "    </tr>\n",
              "    <tr>\n",
              "      <th>received tnx</th>\n",
              "      <td>727</td>\n",
              "    </tr>\n",
              "    <tr>\n",
              "      <th>number of created contracts</th>\n",
              "      <td>20</td>\n",
              "    </tr>\n",
              "    <tr>\n",
              "      <th>unique received from addresses</th>\n",
              "      <td>256</td>\n",
              "    </tr>\n",
              "    <tr>\n",
              "      <th>unique sent to addresses</th>\n",
              "      <td>258</td>\n",
              "    </tr>\n",
              "    <tr>\n",
              "      <th>min value received</th>\n",
              "      <td>4589</td>\n",
              "    </tr>\n",
              "    <tr>\n",
              "      <th>max value received</th>\n",
              "      <td>6302</td>\n",
              "    </tr>\n",
              "    <tr>\n",
              "      <th>avg val received</th>\n",
              "      <td>6767</td>\n",
              "    </tr>\n",
              "    <tr>\n",
              "      <th>min val sent</th>\n",
              "      <td>4719</td>\n",
              "    </tr>\n",
              "    <tr>\n",
              "      <th>max val sent</th>\n",
              "      <td>6647</td>\n",
              "    </tr>\n",
              "    <tr>\n",
              "      <th>avg val sent</th>\n",
              "      <td>5854</td>\n",
              "    </tr>\n",
              "    <tr>\n",
              "      <th>min value sent to contract</th>\n",
              "      <td>3</td>\n",
              "    </tr>\n",
              "    <tr>\n",
              "      <th>max val sent to contract</th>\n",
              "      <td>4</td>\n",
              "    </tr>\n",
              "    <tr>\n",
              "      <th>avg value sent to contract</th>\n",
              "      <td>4</td>\n",
              "    </tr>\n",
              "    <tr>\n",
              "      <th>total transactions (including tnx to create contract</th>\n",
              "      <td>897</td>\n",
              "    </tr>\n",
              "    <tr>\n",
              "      <th>total ether sent</th>\n",
              "      <td>5868</td>\n",
              "    </tr>\n",
              "    <tr>\n",
              "      <th>total ether received</th>\n",
              "      <td>6728</td>\n",
              "    </tr>\n",
              "    <tr>\n",
              "      <th>total ether sent contracts</th>\n",
              "      <td>4</td>\n",
              "    </tr>\n",
              "    <tr>\n",
              "      <th>total ether balance</th>\n",
              "      <td>5717</td>\n",
              "    </tr>\n",
              "    <tr>\n",
              "      <th>total erc20 tnxs</th>\n",
              "      <td>300</td>\n",
              "    </tr>\n",
              "    <tr>\n",
              "      <th>erc20 total ether received</th>\n",
              "      <td>3460</td>\n",
              "    </tr>\n",
              "    <tr>\n",
              "      <th>erc20 total ether sent</th>\n",
              "      <td>1415</td>\n",
              "    </tr>\n",
              "    <tr>\n",
              "      <th>erc20 total ether sent contract</th>\n",
              "      <td>29</td>\n",
              "    </tr>\n",
              "    <tr>\n",
              "      <th>erc20 uniq sent addr</th>\n",
              "      <td>107</td>\n",
              "    </tr>\n",
              "    <tr>\n",
              "      <th>erc20 uniq rec addr</th>\n",
              "      <td>147</td>\n",
              "    </tr>\n",
              "    <tr>\n",
              "      <th>erc20 uniq sent addr.1</th>\n",
              "      <td>4</td>\n",
              "    </tr>\n",
              "    <tr>\n",
              "      <th>erc20 uniq rec contract addr</th>\n",
              "      <td>123</td>\n",
              "    </tr>\n",
              "    <tr>\n",
              "      <th>erc20 avg time between sent tnx</th>\n",
              "      <td>1</td>\n",
              "    </tr>\n",
              "    <tr>\n",
              "      <th>erc20 avg time between rec tnx</th>\n",
              "      <td>1</td>\n",
              "    </tr>\n",
              "    <tr>\n",
              "      <th>erc20 avg time between rec 2 tnx</th>\n",
              "      <td>1</td>\n",
              "    </tr>\n",
              "    <tr>\n",
              "      <th>erc20 avg time between contract tnx</th>\n",
              "      <td>1</td>\n",
              "    </tr>\n",
              "    <tr>\n",
              "      <th>erc20 min val rec</th>\n",
              "      <td>1276</td>\n",
              "    </tr>\n",
              "    <tr>\n",
              "      <th>erc20 max val rec</th>\n",
              "      <td>2647</td>\n",
              "    </tr>\n",
              "    <tr>\n",
              "      <th>erc20 avg val rec</th>\n",
              "      <td>3380</td>\n",
              "    </tr>\n",
              "    <tr>\n",
              "      <th>erc20 min val sent</th>\n",
              "      <td>476</td>\n",
              "    </tr>\n",
              "    <tr>\n",
              "      <th>erc20 max val sent</th>\n",
              "      <td>1130</td>\n",
              "    </tr>\n",
              "    <tr>\n",
              "      <th>erc20 avg val sent</th>\n",
              "      <td>1309</td>\n",
              "    </tr>\n",
              "    <tr>\n",
              "      <th>erc20 min val sent contract</th>\n",
              "      <td>1</td>\n",
              "    </tr>\n",
              "    <tr>\n",
              "      <th>erc20 max val sent contract</th>\n",
              "      <td>1</td>\n",
              "    </tr>\n",
              "    <tr>\n",
              "      <th>erc20 avg val sent contract</th>\n",
              "      <td>1</td>\n",
              "    </tr>\n",
              "    <tr>\n",
              "      <th>erc20 uniq sent token name</th>\n",
              "      <td>70</td>\n",
              "    </tr>\n",
              "    <tr>\n",
              "      <th>erc20 uniq rec token name</th>\n",
              "      <td>121</td>\n",
              "    </tr>\n",
              "    <tr>\n",
              "      <th>erc20 most sent token type</th>\n",
              "      <td>304</td>\n",
              "    </tr>\n",
              "    <tr>\n",
              "      <th>erc20_most_rec_token_type</th>\n",
              "      <td>466</td>\n",
              "    </tr>\n",
              "  </tbody>\n",
              "</table>\n",
              "</div><br><label><b>dtype:</b> int64</label>"
            ]
          },
          "metadata": {},
          "execution_count": 63
        }
      ],
      "source": [
        "unique_values"
      ]
    },
    {
      "cell_type": "code",
      "execution_count": 64,
      "metadata": {
        "id": "7Wyih6AfzI3y"
      },
      "outputs": [],
      "source": [
        "# Keep only attributes with more than one unique value (attributes that are not constant)\n",
        "attributes = [x for x in attributes if x in unique_values.loc[(unique_values > 1)]]"
      ]
    },
    {
      "cell_type": "code",
      "execution_count": 65,
      "metadata": {
        "colab": {
          "base_uri": "https://localhost:8080/"
        },
        "execution": {
          "iopub.execute_input": "2021-01-09T23:01:22.874671Z",
          "iopub.status.busy": "2021-01-09T23:01:22.874191Z",
          "iopub.status.idle": "2021-01-09T23:01:22.893852Z",
          "shell.execute_reply": "2021-01-09T23:01:22.893136Z"
        },
        "id": "KE1jd9ltx7Po",
        "outputId": "beccf279-fbe5-45c5-cd99-9e9a5b46c551",
        "papermill": {
          "duration": 0.03654,
          "end_time": "2021-01-09T23:01:22.894005",
          "exception": false,
          "start_time": "2021-01-09T23:01:22.857465",
          "status": "completed"
        },
        "tags": []
      },
      "outputs": [
        {
          "output_type": "stream",
          "name": "stdout",
          "text": [
            "<class 'pandas.core.frame.DataFrame'>\n",
            "RangeIndex: 9841 entries, 0 to 9840\n",
            "Data columns (total 40 columns):\n",
            " #   Column                                                Non-Null Count  Dtype  \n",
            "---  ------                                                --------------  -----  \n",
            " 0   avg min between sent tnx                              9841 non-null   float64\n",
            " 1   avg min between received tnx                          9841 non-null   float64\n",
            " 2   time diff between first and last (mins)               9841 non-null   float64\n",
            " 3   sent tnx                                              9841 non-null   int64  \n",
            " 4   received tnx                                          9841 non-null   int64  \n",
            " 5   number of created contracts                           9841 non-null   int64  \n",
            " 6   unique received from addresses                        9841 non-null   int64  \n",
            " 7   unique sent to addresses                              9841 non-null   int64  \n",
            " 8   min value received                                    9841 non-null   float64\n",
            " 9   max value received                                    9841 non-null   float64\n",
            " 10  avg val received                                      9841 non-null   float64\n",
            " 11  min val sent                                          9841 non-null   float64\n",
            " 12  max val sent                                          9841 non-null   float64\n",
            " 13  avg val sent                                          9841 non-null   float64\n",
            " 14  min value sent to contract                            9841 non-null   float64\n",
            " 15  max val sent to contract                              9841 non-null   float64\n",
            " 16  avg value sent to contract                            9841 non-null   float64\n",
            " 17  total transactions (including tnx to create contract  9841 non-null   int64  \n",
            " 18  total ether sent                                      9841 non-null   float64\n",
            " 19  total ether received                                  9841 non-null   float64\n",
            " 20  total ether sent contracts                            9841 non-null   float64\n",
            " 21  total ether balance                                   9841 non-null   float64\n",
            " 22   total erc20 tnxs                                     9012 non-null   float64\n",
            " 23   erc20 total ether received                           9012 non-null   float64\n",
            " 24   erc20 total ether sent                               9012 non-null   float64\n",
            " 25   erc20 total ether sent contract                      9012 non-null   float64\n",
            " 26   erc20 uniq sent addr                                 9012 non-null   float64\n",
            " 27   erc20 uniq rec addr                                  9012 non-null   float64\n",
            " 28   erc20 uniq sent addr.1                               9012 non-null   float64\n",
            " 29   erc20 uniq rec contract addr                         9012 non-null   float64\n",
            " 30   erc20 min val rec                                    9012 non-null   float64\n",
            " 31   erc20 max val rec                                    9012 non-null   float64\n",
            " 32   erc20 avg val rec                                    9012 non-null   float64\n",
            " 33   erc20 min val sent                                   9012 non-null   float64\n",
            " 34   erc20 max val sent                                   9012 non-null   float64\n",
            " 35   erc20 avg val sent                                   9012 non-null   float64\n",
            " 36   erc20 uniq sent token name                           9012 non-null   float64\n",
            " 37   erc20 uniq rec token name                            9012 non-null   float64\n",
            " 38   erc20 most sent token type                           7144 non-null   object \n",
            " 39   erc20_most_rec_token_type                            8970 non-null   object \n",
            "dtypes: float64(32), int64(6), object(2)\n",
            "memory usage: 3.0+ MB\n"
          ]
        }
      ],
      "source": [
        "# Display information about the DataFrame with selected attributes\n",
        "df[attributes].info()"
      ]
    },
    {
      "cell_type": "markdown",
      "metadata": {
        "id": "mXhDtzJFzI3z"
      },
      "source": [
        "## **Creation of the Pre-Processing Pipeline**\n",
        "- **BaseEstimator:** This is the base class for all estimators in scikit-learn. An estimator is any object that can estimate some parameters based on a dataset. For example, a machine learning algorithm like linear regression or a decision tree is an estimator. The BaseEstimator class provides basic functionalities, such as methods to set an estimator's parameters and to get these parameters with get_params() and set_params().\n",
        "\n",
        "- **TransformerMixin:** This is a mixin class used to add transformation functionality to an estimator. In scikit-learn, a \"transformer\" is a type of estimator that can transform a dataset. For instance, it might be used to normalize or standardize data, select or extract features, etc. The TransformerMixin class adds the fit_transform() method, which is a convenient method that first fits the transformer to the dataset (using fit()) and then applies the transformation to the same dataset (using transform()). This is useful to avoid having to call fit() and transform() separately during data preprocessing.\n",
        "\n",
        "The combination of these two classes is often used when creating a custom estimator or transformer with scikit-learn. By inheriting from these classes, you ensure that your custom estimator integrates well with other scikit-learn functionalities, such as pipelines and other modeling tools.\n"
      ]
    },
    {
      "cell_type": "code",
      "execution_count": 66,
      "metadata": {
        "id": "J9MgULU2zI3z"
      },
      "outputs": [],
      "source": [
        "# Definition of a custom class that inherits from BaseEstimator and TransformerMixin\n",
        "class PipeSteps(BaseEstimator, TransformerMixin):\n",
        "\n",
        "    # Constructor method to initialize the class with a list of columns\n",
        "    def __init__(self, columns=[]):\n",
        "        # Assign the columns argument to the instance attribute self.columns\n",
        "        self.columns = columns\n",
        "\n",
        "    # Fit method used to fit (train) the transformation on the training data\n",
        "    def fit(self, X, y=None):\n",
        "        # Returns the instance itself, indicating the method does not make modifications\n",
        "        return self\n",
        "\n",
        "    # Transform method to transform the input data\n",
        "    def transform(self, X):\n",
        "        # Makes a copy of the input data to avoid altering the original data\n",
        "        X = X.copy()\n",
        "        # Returns the data without modifications\n",
        "        return X"
      ]
    },
    {
      "cell_type": "code",
      "execution_count": 67,
      "metadata": {
        "id": "eh-6XntNzI3z"
      },
      "outputs": [],
      "source": [
        "# Definition of a class that inherits from DSAPipeSteps\n",
        "class SelectColumns(PipeSteps):\n",
        "\n",
        "    # Transform method to transform the input data\n",
        "    def transform(self, X):\n",
        "\n",
        "        # Makes a copy of the input data to avoid altering the original data\n",
        "        X = X.copy()\n",
        "\n",
        "        # Selects and returns only the columns specified in self.columns\n",
        "        return X[self.columns]"
      ]
    },
    {
      "cell_type": "code",
      "execution_count": 68,
      "metadata": {
        "id": "m04FDedGzI30"
      },
      "outputs": [],
      "source": [
        "# Definition of a class that inherits from PipeSteps\n",
        "class FillData(PipeSteps):\n",
        "\n",
        "    # Fit method to fit the transformation on the training data\n",
        "    def fit(self, X, y=None):\n",
        "\n",
        "        # Calculates the mean of each column specified in self.columns and stores it in the self.means dictionary\n",
        "        self.means = {col: X[col].mean() for col in self.columns}\n",
        "\n",
        "        # Returns the instance itself, indicating the method does not make modifications\n",
        "        return self\n",
        "\n",
        "    # Transform method to transform the input data\n",
        "    def transform(self, X):\n",
        "\n",
        "        # Makes a copy of the input data to avoid altering the original data\n",
        "        X = X.copy()\n",
        "\n",
        "        # Iterates over each column specified in self.columns\n",
        "        for col in self.columns:\n",
        "\n",
        "            # Fills missing values in the column with the mean calculated during the fit phase\n",
        "            X[col] = X[col].fillna(self.means[col])\n",
        "\n",
        "        # Returns the transformed data\n",
        "        return X"
      ]
    },
    {
      "cell_type": "code",
      "execution_count": 69,
      "metadata": {
        "id": "XPimHx2NzI30"
      },
      "outputs": [],
      "source": [
        "# Definition of a class that inherits from PipeSteps\n",
        "class NormalizeData(PipeSteps):\n",
        "\n",
        "    # Fit method to fit the scaler on the training data\n",
        "    def fit(self, X, y=None):\n",
        "\n",
        "        # Initializes an instance of StandardScaler to normalize the data\n",
        "        self.scaler = StandardScaler()\n",
        "\n",
        "        # Fits the scaler on the columns specified in self.columns\n",
        "        self.scaler.fit(X[self.columns])\n",
        "\n",
        "        # Returns the instance itself, indicating the method does not make modifications\n",
        "        return self\n",
        "\n",
        "    # Transform method to transform the input data\n",
        "    def transform(self, X):\n",
        "\n",
        "        # Makes a copy of the input data to avoid altering the original data\n",
        "        X = X.copy()\n",
        "\n",
        "        # Applies the normalization transformation to the specified columns\n",
        "        X[self.columns] = self.scaler.transform(X[self.columns])\n",
        "\n",
        "        # Returns the transformed data\n",
        "        return X"
      ]
    },
    {
      "cell_type": "code",
      "execution_count": 70,
      "metadata": {
        "execution": {
          "iopub.execute_input": "2021-01-09T23:01:22.923053Z",
          "iopub.status.busy": "2021-01-09T23:01:22.922115Z",
          "iopub.status.idle": "2021-01-09T23:01:22.924567Z",
          "shell.execute_reply": "2021-01-09T23:01:22.923839Z"
        },
        "id": "YwgM7esXx7Po",
        "papermill": {
          "duration": 0.022327,
          "end_time": "2021-01-09T23:01:22.924645",
          "exception": false,
          "start_time": "2021-01-09T23:01:22.902318",
          "status": "completed"
        },
        "tags": []
      },
      "outputs": [],
      "source": [
        "# Definition of a class that inherits from PipeSteps\n",
        "class RetrieveData(PipeSteps):\n",
        "\n",
        "    # Transform method to transform the input data\n",
        "    def transform(self, X):\n",
        "\n",
        "        # Makes a copy of the input data to avoid altering the original data\n",
        "        X = X.copy()\n",
        "\n",
        "        # Check if X is a pandas DataFrame, and if so, convert it to a NumPy array\n",
        "        if isinstance(X, pd.DataFrame):\n",
        "            return X.values\n",
        "        else:\n",
        "            # If X is already a NumPy array, return it as-is\n",
        "            return X"
      ]
    },
    {
      "cell_type": "markdown",
      "metadata": {
        "id": "dfJiiRCNzI31"
      },
      "source": [
        "In scikit-learn, a Pipeline is a tool that chains multiple steps of transformation and a final estimator into a single object. This allows you to set up a machine learning process that includes preprocessing steps (such as normalization, standardization, and feature extraction) followed by the application of a machine learning model. Each step in the pipeline is represented by a tuple containing a name and a transformation or model object."
      ]
    },
    {
      "cell_type": "code",
      "source": [
        "# Ensure correct data types in the DataFrame\n",
        "for col in df.columns:\n",
        "    if df[col].dtype == 'object':\n",
        "        df[col] = pd.to_numeric(df[col], errors='ignore')\n",
        "\n",
        "# Remove categorical columns (strings) if they are not relevant for the model\n",
        "categorical_columns = df.select_dtypes(include=['object']).columns\n",
        "if len(categorical_columns) > 0:\n",
        "    print(f\"Categorical columns detected and removed: {categorical_columns}\")\n",
        "    df.drop(columns=categorical_columns, inplace=True)\n",
        "\n",
        "# Update the attributes list to reflect only the remaining columns\n",
        "attributes = [col for col in df.columns if col != 'flag' and col not in categorical_columns]\n"
      ],
      "metadata": {
        "colab": {
          "base_uri": "https://localhost:8080/"
        },
        "id": "1catgboBPT1e",
        "outputId": "e6849f3b-5e20-478b-a7d6-3dc4eb041c0a"
      },
      "execution_count": 71,
      "outputs": [
        {
          "output_type": "stream",
          "name": "stdout",
          "text": [
            "Categorical columns detected and removed: Index(['address', ' erc20 most sent token type', ' erc20_most_rec_token_type'], dtype='object')\n"
          ]
        }
      ]
    },
    {
      "cell_type": "code",
      "execution_count": 72,
      "metadata": {
        "execution": {
          "iopub.execute_input": "2021-01-09T23:01:22.944300Z",
          "iopub.status.busy": "2021-01-09T23:01:22.943741Z",
          "iopub.status.idle": "2021-01-09T23:01:22.946159Z",
          "shell.execute_reply": "2021-01-09T23:01:22.945791Z"
        },
        "id": "h6mUSs8ix7Po",
        "papermill": {
          "duration": 0.013941,
          "end_time": "2021-01-09T23:01:22.946228",
          "exception": false,
          "start_time": "2021-01-09T23:01:22.932287",
          "status": "completed"
        },
        "tags": []
      },
      "outputs": [],
      "source": [
        "# Create the pipeline\n",
        "preprocessing_pipeline = Pipeline([\n",
        "    ('feature_selection', SelectColumns(attributes)),\n",
        "    ('fill_missing', FillData(attributes)),\n",
        "    ('standard_scaling', StandardScaler()),\n",
        "    ('return_values', RetrieveData())\n",
        "])"
      ]
    },
    {
      "cell_type": "code",
      "execution_count": 73,
      "metadata": {
        "id": "0ON8vdmqzI31"
      },
      "outputs": [],
      "source": [
        "# Input variables\n",
        "X = df[attributes]"
      ]
    },
    {
      "cell_type": "code",
      "execution_count": 74,
      "metadata": {
        "id": "zmn6_3SzzI32"
      },
      "outputs": [],
      "source": [
        "# Output variable\n",
        "y = df['flag']"
      ]
    },
    {
      "cell_type": "code",
      "execution_count": 75,
      "metadata": {
        "id": "W6zXKhFnzI32"
      },
      "outputs": [],
      "source": [
        "# Adjusts the type of the output variable\n",
        "y = to_categorical(y)"
      ]
    },
    {
      "cell_type": "code",
      "execution_count": 76,
      "metadata": {
        "execution": {
          "iopub.execute_input": "2021-01-09T23:01:22.969418Z",
          "iopub.status.busy": "2021-01-09T23:01:22.968977Z",
          "iopub.status.idle": "2021-01-09T23:01:28.677415Z",
          "shell.execute_reply": "2021-01-09T23:01:28.676703Z"
        },
        "id": "lbh2sYU5x7Po",
        "papermill": {
          "duration": 5.723611,
          "end_time": "2021-01-09T23:01:28.677500",
          "exception": false,
          "start_time": "2021-01-09T23:01:22.953889",
          "status": "completed"
        },
        "tags": []
      },
      "outputs": [],
      "source": [
        "# Split the data into training and test sets\n",
        "X_train, X_test, y_train, y_test = train_test_split(X, y, test_size=0.30, random_state=42)"
      ]
    },
    {
      "cell_type": "code",
      "execution_count": 77,
      "metadata": {
        "execution": {
          "iopub.execute_input": "2021-01-09T23:01:28.705643Z",
          "iopub.status.busy": "2021-01-09T23:01:28.705193Z",
          "iopub.status.idle": "2021-01-09T23:01:28.897092Z",
          "shell.execute_reply": "2021-01-09T23:01:28.896449Z"
        },
        "id": "qJW_nBgLx7Pp",
        "papermill": {
          "duration": 0.211707,
          "end_time": "2021-01-09T23:01:28.897202",
          "exception": false,
          "start_time": "2021-01-09T23:01:28.685495",
          "status": "completed"
        },
        "tags": []
      },
      "outputs": [],
      "source": [
        "# Standardize the data\n",
        "X_train = preprocessing_pipeline.fit_transform(X_train)\n",
        "X_test = preprocessing_pipeline.transform(X_test)"
      ]
    },
    {
      "cell_type": "code",
      "execution_count": 78,
      "metadata": {
        "colab": {
          "base_uri": "https://localhost:8080/"
        },
        "id": "r9p-ucmVzI33",
        "outputId": "5e41b14d-5aaf-48df-9374-aba9ee21d229"
      },
      "outputs": [
        {
          "output_type": "execute_result",
          "data": {
            "text/plain": [
              "array([[ 1.24220965, -0.83984471, -0.23259911, ...,  0.        ,\n",
              "        -0.21172682, -0.2313969 ],\n",
              "       [ 0.4022775 ,  1.07325309, -0.23259911, ...,  0.        ,\n",
              "        -0.21172682, -0.17365057],\n",
              "       [ 1.42085852, -0.42791812, -0.23259911, ...,  0.        ,\n",
              "        -0.21172682, -0.2313969 ],\n",
              "       ...,\n",
              "       [ 0.15831234,  0.51072093, -0.23259911, ...,  0.        ,\n",
              "        -0.21172682, -0.28914324],\n",
              "       [-1.44105404, -0.78937149, -0.22473065, ...,  0.        ,\n",
              "        -0.21172682, -0.28914324],\n",
              "       [ 0.82206705,  2.04119917, -0.23250192, ...,  0.        ,\n",
              "        -0.21172682, -0.28914324]])"
            ]
          },
          "metadata": {},
          "execution_count": 78
        }
      ],
      "source": [
        "X_train"
      ]
    },
    {
      "cell_type": "code",
      "execution_count": 79,
      "metadata": {
        "colab": {
          "base_uri": "https://localhost:8080/"
        },
        "id": "8lIVg36nzI33",
        "outputId": "32d0f21b-91b9-4f68-f780-5c7845b3f7f1"
      },
      "outputs": [
        {
          "output_type": "execute_result",
          "data": {
            "text/plain": [
              "array([[ 9.96126126e-01, -1.40726138e+00, -1.54379550e-01, ...,\n",
              "         0.00000000e+00, -2.11726819e-01, -4.11559255e-04],\n",
              "       [ 1.31105655e+00, -6.81098299e-01, -9.86466733e-02, ...,\n",
              "         0.00000000e+00, -2.11726819e-01, -2.31396905e-01],\n",
              "       [-1.70726205e+00, -1.40319096e+00, -2.25103708e-01, ...,\n",
              "         0.00000000e+00, -2.11726819e-01, -2.89143241e-01],\n",
              "       ...,\n",
              "       [-1.33619492e+00, -5.47588495e-01, -2.32514779e-01, ...,\n",
              "         0.00000000e+00, -2.11726819e-01, -2.89143241e-01],\n",
              "       [ 1.00424653e+00, -1.38853744e+00, -2.32599109e-01, ...,\n",
              "         0.00000000e+00, -2.11726819e-01, -2.31396905e-01],\n",
              "       [-1.20379704e+00, -2.42306930e-01, -2.31476133e-01, ...,\n",
              "         0.00000000e+00, -2.11726819e-01, -2.89143241e-01]])"
            ]
          },
          "metadata": {},
          "execution_count": 79
        }
      ],
      "source": [
        "X_test"
      ]
    },
    {
      "cell_type": "markdown",
      "metadata": {
        "id": "8Q5tIAADzI34"
      },
      "source": [
        "## **Construction of the Deep Learning Model**"
      ]
    },
    {
      "cell_type": "code",
      "execution_count": 80,
      "metadata": {
        "id": "5zwJLdI6zI34"
      },
      "outputs": [],
      "source": [
        "# Create sequence of layers\n",
        "model = Sequential()"
      ]
    },
    {
      "cell_type": "code",
      "execution_count": 81,
      "metadata": {
        "id": "fFLzSvgTzI35"
      },
      "outputs": [],
      "source": [
        "# Add an input layer to the model with the shape specified by the length of 'attributes'\n",
        "model.add(Input(shape=(len(attributes),)))\n",
        "\n",
        "# Add a dense layer to the model with 'len(attributes)' units and the 'relu' activation function\n",
        "model.add(Dense(len(attributes), activation='relu'))\n",
        "\n",
        "# Add a dense layer to the model with 20 units and the 'relu' activation function\n",
        "model.add(Dense(20, activation='relu'))\n",
        "\n",
        "# Add a dense layer to the model with 5 units and the 'relu' activation function\n",
        "model.add(Dense(5, activation='relu'))\n",
        "\n",
        "# Add a dense layer to the model with 2 units and the 'softmax' activation function (output layer)\n",
        "model.add(Dense(2, activation='softmax'))"
      ]
    },
    {
      "cell_type": "code",
      "execution_count": 82,
      "metadata": {
        "id": "uJ44F7AuzI35"
      },
      "outputs": [],
      "source": [
        "# Model compilation\n",
        "model.compile(optimizer='adam', loss='categorical_crossentropy', metrics=['accuracy'])"
      ]
    },
    {
      "cell_type": "code",
      "execution_count": 83,
      "metadata": {
        "colab": {
          "base_uri": "https://localhost:8080/",
          "height": 317
        },
        "execution": {
          "iopub.execute_input": "2021-01-09T23:01:28.928866Z",
          "iopub.status.busy": "2021-01-09T23:01:28.927999Z",
          "iopub.status.idle": "2021-01-09T23:01:29.076397Z",
          "shell.execute_reply": "2021-01-09T23:01:29.074774Z"
        },
        "id": "CHtocbGdx7Pp",
        "outputId": "8bf90536-4260-4cb5-e945-9b7551e71920",
        "papermill": {
          "duration": 0.16792,
          "end_time": "2021-01-09T23:01:29.076531",
          "exception": false,
          "start_time": "2021-01-09T23:01:28.908611",
          "status": "completed"
        },
        "tags": []
      },
      "outputs": [
        {
          "output_type": "display_data",
          "data": {
            "text/plain": [
              "\u001b[1mModel: \"sequential_1\"\u001b[0m\n"
            ],
            "text/html": [
              "<pre style=\"white-space:pre;overflow-x:auto;line-height:normal;font-family:Menlo,'DejaVu Sans Mono',consolas,'Courier New',monospace\"><span style=\"font-weight: bold\">Model: \"sequential_1\"</span>\n",
              "</pre>\n"
            ]
          },
          "metadata": {}
        },
        {
          "output_type": "display_data",
          "data": {
            "text/plain": [
              "┏━━━━━━━━━━━━━━━━━━━━━━━━━━━━━━━━━━━━━━┳━━━━━━━━━━━━━━━━━━━━━━━━━━━━━┳━━━━━━━━━━━━━━━━━┓\n",
              "┃\u001b[1m \u001b[0m\u001b[1mLayer (type)                        \u001b[0m\u001b[1m \u001b[0m┃\u001b[1m \u001b[0m\u001b[1mOutput Shape               \u001b[0m\u001b[1m \u001b[0m┃\u001b[1m \u001b[0m\u001b[1m        Param #\u001b[0m\u001b[1m \u001b[0m┃\n",
              "┡━━━━━━━━━━━━━━━━━━━━━━━━━━━━━━━━━━━━━━╇━━━━━━━━━━━━━━━━━━━━━━━━━━━━━╇━━━━━━━━━━━━━━━━━┩\n",
              "│ dense_4 (\u001b[38;5;33mDense\u001b[0m)                      │ (\u001b[38;5;45mNone\u001b[0m, \u001b[38;5;34m47\u001b[0m)                  │           \u001b[38;5;34m2,256\u001b[0m │\n",
              "├──────────────────────────────────────┼─────────────────────────────┼─────────────────┤\n",
              "│ dense_5 (\u001b[38;5;33mDense\u001b[0m)                      │ (\u001b[38;5;45mNone\u001b[0m, \u001b[38;5;34m20\u001b[0m)                  │             \u001b[38;5;34m960\u001b[0m │\n",
              "├──────────────────────────────────────┼─────────────────────────────┼─────────────────┤\n",
              "│ dense_6 (\u001b[38;5;33mDense\u001b[0m)                      │ (\u001b[38;5;45mNone\u001b[0m, \u001b[38;5;34m5\u001b[0m)                   │             \u001b[38;5;34m105\u001b[0m │\n",
              "├──────────────────────────────────────┼─────────────────────────────┼─────────────────┤\n",
              "│ dense_7 (\u001b[38;5;33mDense\u001b[0m)                      │ (\u001b[38;5;45mNone\u001b[0m, \u001b[38;5;34m2\u001b[0m)                   │              \u001b[38;5;34m12\u001b[0m │\n",
              "└──────────────────────────────────────┴─────────────────────────────┴─────────────────┘\n"
            ],
            "text/html": [
              "<pre style=\"white-space:pre;overflow-x:auto;line-height:normal;font-family:Menlo,'DejaVu Sans Mono',consolas,'Courier New',monospace\">┏━━━━━━━━━━━━━━━━━━━━━━━━━━━━━━━━━━━━━━┳━━━━━━━━━━━━━━━━━━━━━━━━━━━━━┳━━━━━━━━━━━━━━━━━┓\n",
              "┃<span style=\"font-weight: bold\"> Layer (type)                         </span>┃<span style=\"font-weight: bold\"> Output Shape                </span>┃<span style=\"font-weight: bold\">         Param # </span>┃\n",
              "┡━━━━━━━━━━━━━━━━━━━━━━━━━━━━━━━━━━━━━━╇━━━━━━━━━━━━━━━━━━━━━━━━━━━━━╇━━━━━━━━━━━━━━━━━┩\n",
              "│ dense_4 (<span style=\"color: #0087ff; text-decoration-color: #0087ff\">Dense</span>)                      │ (<span style=\"color: #00d7ff; text-decoration-color: #00d7ff\">None</span>, <span style=\"color: #00af00; text-decoration-color: #00af00\">47</span>)                  │           <span style=\"color: #00af00; text-decoration-color: #00af00\">2,256</span> │\n",
              "├──────────────────────────────────────┼─────────────────────────────┼─────────────────┤\n",
              "│ dense_5 (<span style=\"color: #0087ff; text-decoration-color: #0087ff\">Dense</span>)                      │ (<span style=\"color: #00d7ff; text-decoration-color: #00d7ff\">None</span>, <span style=\"color: #00af00; text-decoration-color: #00af00\">20</span>)                  │             <span style=\"color: #00af00; text-decoration-color: #00af00\">960</span> │\n",
              "├──────────────────────────────────────┼─────────────────────────────┼─────────────────┤\n",
              "│ dense_6 (<span style=\"color: #0087ff; text-decoration-color: #0087ff\">Dense</span>)                      │ (<span style=\"color: #00d7ff; text-decoration-color: #00d7ff\">None</span>, <span style=\"color: #00af00; text-decoration-color: #00af00\">5</span>)                   │             <span style=\"color: #00af00; text-decoration-color: #00af00\">105</span> │\n",
              "├──────────────────────────────────────┼─────────────────────────────┼─────────────────┤\n",
              "│ dense_7 (<span style=\"color: #0087ff; text-decoration-color: #0087ff\">Dense</span>)                      │ (<span style=\"color: #00d7ff; text-decoration-color: #00d7ff\">None</span>, <span style=\"color: #00af00; text-decoration-color: #00af00\">2</span>)                   │              <span style=\"color: #00af00; text-decoration-color: #00af00\">12</span> │\n",
              "└──────────────────────────────────────┴─────────────────────────────┴─────────────────┘\n",
              "</pre>\n"
            ]
          },
          "metadata": {}
        },
        {
          "output_type": "display_data",
          "data": {
            "text/plain": [
              "\u001b[1m Total params: \u001b[0m\u001b[38;5;34m3,333\u001b[0m (13.02 KB)\n"
            ],
            "text/html": [
              "<pre style=\"white-space:pre;overflow-x:auto;line-height:normal;font-family:Menlo,'DejaVu Sans Mono',consolas,'Courier New',monospace\"><span style=\"font-weight: bold\"> Total params: </span><span style=\"color: #00af00; text-decoration-color: #00af00\">3,333</span> (13.02 KB)\n",
              "</pre>\n"
            ]
          },
          "metadata": {}
        },
        {
          "output_type": "display_data",
          "data": {
            "text/plain": [
              "\u001b[1m Trainable params: \u001b[0m\u001b[38;5;34m3,333\u001b[0m (13.02 KB)\n"
            ],
            "text/html": [
              "<pre style=\"white-space:pre;overflow-x:auto;line-height:normal;font-family:Menlo,'DejaVu Sans Mono',consolas,'Courier New',monospace\"><span style=\"font-weight: bold\"> Trainable params: </span><span style=\"color: #00af00; text-decoration-color: #00af00\">3,333</span> (13.02 KB)\n",
              "</pre>\n"
            ]
          },
          "metadata": {}
        },
        {
          "output_type": "display_data",
          "data": {
            "text/plain": [
              "\u001b[1m Non-trainable params: \u001b[0m\u001b[38;5;34m0\u001b[0m (0.00 B)\n"
            ],
            "text/html": [
              "<pre style=\"white-space:pre;overflow-x:auto;line-height:normal;font-family:Menlo,'DejaVu Sans Mono',consolas,'Courier New',monospace\"><span style=\"font-weight: bold\"> Non-trainable params: </span><span style=\"color: #00af00; text-decoration-color: #00af00\">0</span> (0.00 B)\n",
              "</pre>\n"
            ]
          },
          "metadata": {}
        }
      ],
      "source": [
        "# Summary\n",
        "model.summary()"
      ]
    },
    {
      "cell_type": "markdown",
      "metadata": {
        "id": "g2rG1zz2zI36"
      },
      "source": [
        "## **Training the Model**"
      ]
    },
    {
      "cell_type": "code",
      "execution_count": 84,
      "metadata": {
        "colab": {
          "base_uri": "https://localhost:8080/"
        },
        "execution": {
          "iopub.execute_input": "2021-01-09T23:01:29.106710Z",
          "iopub.status.busy": "2021-01-09T23:01:29.105632Z",
          "iopub.status.idle": "2021-01-09T23:01:33.426495Z",
          "shell.execute_reply": "2021-01-09T23:01:33.425826Z"
        },
        "id": "jgPvcbL_x7Pp",
        "outputId": "9adbe77f-71e5-4719-f943-c7ea5f673165",
        "papermill": {
          "duration": 4.337858,
          "end_time": "2021-01-09T23:01:33.426610",
          "exception": false,
          "start_time": "2021-01-09T23:01:29.088752",
          "status": "completed"
        },
        "tags": []
      },
      "outputs": [
        {
          "output_type": "stream",
          "name": "stdout",
          "text": [
            "Epoch 1/10\n",
            "\u001b[1m216/216\u001b[0m \u001b[32m━━━━━━━━━━━━━━━━━━━━\u001b[0m\u001b[37m\u001b[0m \u001b[1m3s\u001b[0m 5ms/step - accuracy: 0.8236 - loss: 0.3527 - val_accuracy: 0.9936 - val_loss: 0.1390\n",
            "Epoch 2/10\n",
            "\u001b[1m216/216\u001b[0m \u001b[32m━━━━━━━━━━━━━━━━━━━━\u001b[0m\u001b[37m\u001b[0m \u001b[1m1s\u001b[0m 5ms/step - accuracy: 0.9954 - loss: 0.1377 - val_accuracy: 0.9970 - val_loss: 0.0976\n",
            "Epoch 3/10\n",
            "\u001b[1m216/216\u001b[0m \u001b[32m━━━━━━━━━━━━━━━━━━━━\u001b[0m\u001b[37m\u001b[0m \u001b[1m1s\u001b[0m 5ms/step - accuracy: 0.9988 - loss: 0.0940 - val_accuracy: 0.9997 - val_loss: 0.0719\n",
            "Epoch 4/10\n",
            "\u001b[1m216/216\u001b[0m \u001b[32m━━━━━━━━━━━━━━━━━━━━\u001b[0m\u001b[37m\u001b[0m \u001b[1m1s\u001b[0m 5ms/step - accuracy: 0.9994 - loss: 0.0682 - val_accuracy: 0.9997 - val_loss: 0.0561\n",
            "Epoch 5/10\n",
            "\u001b[1m216/216\u001b[0m \u001b[32m━━━━━━━━━━━━━━━━━━━━\u001b[0m\u001b[37m\u001b[0m \u001b[1m1s\u001b[0m 5ms/step - accuracy: 0.9998 - loss: 0.0511 - val_accuracy: 0.9993 - val_loss: 0.0446\n",
            "Epoch 6/10\n",
            "\u001b[1m216/216\u001b[0m \u001b[32m━━━━━━━━━━━━━━━━━━━━\u001b[0m\u001b[37m\u001b[0m \u001b[1m1s\u001b[0m 6ms/step - accuracy: 0.9999 - loss: 0.0394 - val_accuracy: 0.9993 - val_loss: 0.0365\n",
            "Epoch 7/10\n",
            "\u001b[1m216/216\u001b[0m \u001b[32m━━━━━━━━━━━━━━━━━━━━\u001b[0m\u001b[37m\u001b[0m \u001b[1m3s\u001b[0m 9ms/step - accuracy: 0.9997 - loss: 0.0334 - val_accuracy: 0.9993 - val_loss: 0.0298\n",
            "Epoch 8/10\n",
            "\u001b[1m216/216\u001b[0m \u001b[32m━━━━━━━━━━━━━━━━━━━━\u001b[0m\u001b[37m\u001b[0m \u001b[1m3s\u001b[0m 11ms/step - accuracy: 0.9999 - loss: 0.0270 - val_accuracy: 0.9993 - val_loss: 0.0251\n",
            "Epoch 9/10\n",
            "\u001b[1m216/216\u001b[0m \u001b[32m━━━━━━━━━━━━━━━━━━━━\u001b[0m\u001b[37m\u001b[0m \u001b[1m2s\u001b[0m 9ms/step - accuracy: 0.9999 - loss: 0.0221 - val_accuracy: 0.9990 - val_loss: 0.0220\n",
            "Epoch 10/10\n",
            "\u001b[1m216/216\u001b[0m \u001b[32m━━━━━━━━━━━━━━━━━━━━\u001b[0m\u001b[37m\u001b[0m \u001b[1m3s\u001b[0m 13ms/step - accuracy: 1.0000 - loss: 0.0185 - val_accuracy: 0.9990 - val_loss: 0.0231\n",
            "CPU times: user 11.2 s, sys: 423 ms, total: 11.7 s\n",
            "Wall time: 21.6 s\n"
          ]
        },
        {
          "output_type": "execute_result",
          "data": {
            "text/plain": [
              "<keras.src.callbacks.history.History at 0x7b142f1caa70>"
            ]
          },
          "metadata": {},
          "execution_count": 84
        }
      ],
      "source": [
        "%%time\n",
        "model.fit(X_train, y_train, validation_data=(X_test, y_test), epochs=10)"
      ]
    },
    {
      "cell_type": "code",
      "execution_count": 85,
      "metadata": {
        "colab": {
          "base_uri": "https://localhost:8080/"
        },
        "id": "A0qdLKNWzI36",
        "outputId": "20b4711b-5a33-4c3c-8be9-eb6a612d090f"
      },
      "outputs": [
        {
          "output_type": "stream",
          "name": "stdout",
          "text": [
            "\u001b[1m93/93\u001b[0m \u001b[32m━━━━━━━━━━━━━━━━━━━━\u001b[0m\u001b[37m\u001b[0m \u001b[1m1s\u001b[0m 6ms/step\n"
          ]
        }
      ],
      "source": [
        "# Predictions on test data\n",
        "test_predictions = [np.argmax(x) for x in model.predict(X_test)]"
      ]
    },
    {
      "cell_type": "code",
      "execution_count": 86,
      "metadata": {
        "id": "bxTjDwX_zI36"
      },
      "outputs": [],
      "source": [
        "# Calculate Accuracy\n",
        "acc = metrics.accuracy_score(test_predictions, [np.argmax(y) for y in y_test])"
      ]
    },
    {
      "cell_type": "markdown",
      "metadata": {
        "id": "B8fqe0a2zI36"
      },
      "source": [
        "Accuracy is an evaluation metric for classification models. It represents the proportion of correct predictions made by the model relative to the total number of samples evaluated. In other words, it's the number of correct predictions divided by the total number of predictions made, indicating how well the model is classifying the samples correctly.\n"
      ]
    },
    {
      "cell_type": "code",
      "execution_count": 87,
      "metadata": {
        "colab": {
          "base_uri": "https://localhost:8080/"
        },
        "execution": {
          "iopub.execute_input": "2021-01-09T23:01:33.505671Z",
          "iopub.status.busy": "2021-01-09T23:01:33.504762Z",
          "iopub.status.idle": "2021-01-09T23:01:33.734735Z",
          "shell.execute_reply": "2021-01-09T23:01:33.733638Z"
        },
        "id": "I3t6sercx7Pp",
        "outputId": "74d61ece-aa33-46c7-9c0d-9b5ac6750d61",
        "papermill": {
          "duration": 0.272715,
          "end_time": "2021-01-09T23:01:33.734847",
          "exception": false,
          "start_time": "2021-01-09T23:01:33.462132",
          "status": "completed"
        },
        "tags": []
      },
      "outputs": [
        {
          "output_type": "stream",
          "name": "stdout",
          "text": [
            "Accuracy on Test Data: 99.90%\n"
          ]
        }
      ],
      "source": [
        "print(f'Accuracy on Test Data: {acc:.2%}')"
      ]
    },
    {
      "cell_type": "code",
      "execution_count": 88,
      "metadata": {
        "colab": {
          "base_uri": "https://localhost:8080/"
        },
        "id": "Q_jiRirOzI37",
        "outputId": "40ca6d48-5bee-4d66-b648-429a81f87449"
      },
      "outputs": [
        {
          "output_type": "stream",
          "name": "stdout",
          "text": [
            "\u001b[1m93/93\u001b[0m \u001b[32m━━━━━━━━━━━━━━━━━━━━\u001b[0m\u001b[37m\u001b[0m \u001b[1m1s\u001b[0m 7ms/step\n"
          ]
        }
      ],
      "source": [
        "# Calculate AUC\n",
        "auc = metrics.roc_auc_score([np.argmax(y) for y in y_test], model.predict(X_test)[:, 1])"
      ]
    },
    {
      "cell_type": "markdown",
      "metadata": {
        "id": "dxNM8oTizI37"
      },
      "source": [
        "The Area Under the Curve (AUC) is a metric used to evaluate the performance of binary classification models. It is based on the Receiver Operating Characteristic (ROC) curve, which is a plot that shows the relationship between the true positive rate (sensitivity) and the false positive rate (1 - specificity) for different decision thresholds.\n",
        "\n",
        "The AUC represents the total area under the ROC curve and can range from 0 to 1. An AUC of 0.5 indicates random performance, while an AUC of 1.0 indicates perfect classification. Therefore, the closer the AUC value is to 1, the better the model's ability to distinguish between positive and negative classes."
      ]
    },
    {
      "cell_type": "code",
      "execution_count": 89,
      "metadata": {
        "colab": {
          "base_uri": "https://localhost:8080/"
        },
        "execution": {
          "iopub.execute_input": "2021-01-09T23:01:33.813225Z",
          "iopub.status.busy": "2021-01-09T23:01:33.812292Z",
          "iopub.status.idle": "2021-01-09T23:01:33.923153Z",
          "shell.execute_reply": "2021-01-09T23:01:33.922506Z"
        },
        "id": "jwnf-BUfx7Pp",
        "outputId": "fedbefcf-0894-4446-cba3-4f8020f2b0af",
        "papermill": {
          "duration": 0.152696,
          "end_time": "2021-01-09T23:01:33.923290",
          "exception": false,
          "start_time": "2021-01-09T23:01:33.770594",
          "status": "completed"
        },
        "tags": []
      },
      "outputs": [
        {
          "output_type": "stream",
          "name": "stdout",
          "text": [
            "AUC on Test Data - 99.90%\n"
          ]
        }
      ],
      "source": [
        "print(f'AUC on Test Data - {auc:.2%}')"
      ]
    },
    {
      "cell_type": "markdown",
      "metadata": {
        "id": "NycXZsFbzI37"
      },
      "source": [
        "## **Deploy of the Model and Fraud Detection in New Cryptocurrency Transactions**"
      ]
    },
    {
      "cell_type": "code",
      "source": [
        "import pandas as pd\n",
        "\n",
        "# Load the CSV files\n",
        "file_1 = pd.read_csv('dataset.csv')\n",
        "file_2 = pd.read_csv('new_data.csv')\n",
        "\n",
        "# Identify the columns that are common to both files\n",
        "common_columns = file_1.columns.intersection(file_2.columns)\n",
        "\n",
        "# Keep only the common columns in both DataFrames\n",
        "file_1_filtered = file_1[common_columns]\n",
        "file_2_filtered = file_2[common_columns]\n",
        "\n",
        "# Save the filtered DataFrames (optional)\n",
        "file_1_filtered.to_csv('dataset_filtered.csv', index=False)\n",
        "file_2_filtered.to_csv('new_data_filtered.csv', index=False)\n",
        "\n",
        "print(\"Different columns have been removed. Filtered files have been saved.\")"
      ],
      "metadata": {
        "colab": {
          "base_uri": "https://localhost:8080/"
        },
        "id": "utJ7zeFL1zqm",
        "outputId": "12d92e82-686d-4dd4-c422-bd50fd8a825b"
      },
      "execution_count": 90,
      "outputs": [
        {
          "output_type": "stream",
          "name": "stdout",
          "text": [
            "Different columns have been removed. Filtered files have been saved.\n"
          ]
        }
      ]
    },
    {
      "cell_type": "code",
      "execution_count": 91,
      "metadata": {
        "id": "GvtsqLhWzI37"
      },
      "outputs": [],
      "source": [
        "# Load new transaction data\n",
        "new_data = pd.read_csv('new_data.csv')"
      ]
    },
    {
      "cell_type": "code",
      "execution_count": 92,
      "metadata": {
        "colab": {
          "base_uri": "https://localhost:8080/",
          "height": 264
        },
        "id": "ZbhTKVwezI37",
        "outputId": "c4ea3675-8685-45d8-e455-e600a9c2ca69"
      },
      "outputs": [
        {
          "output_type": "execute_result",
          "data": {
            "text/plain": [
              "   avg min between sent tnx  avg min between received tnx  \\\n",
              "0                   2570.59                       3336.01   \n",
              "\n",
              "   time diff between first and last (mins)  sent tnx  received tnx  \\\n",
              "0                                  30572.7         8             3   \n",
              "\n",
              "   number of created contracts  unique received from addresses  \\\n",
              "0                            0                               2   \n",
              "\n",
              "   unique sent to addresses  min value received  max value received   ...  \\\n",
              "0                         4                 0.1                 40.0  ...   \n",
              "\n",
              "    erc20 uniq sent addr.1   erc20 uniq rec contract addr   erc20 min val rec  \\\n",
              "0                      0.0                            1.0               600.0   \n",
              "\n",
              "    erc20 max val rec   erc20 avg val rec   erc20 min val sent  \\\n",
              "0               600.0               600.0                  0.0   \n",
              "\n",
              "    erc20 max val sent   erc20 avg val sent   erc20 uniq sent token name  \\\n",
              "0                  0.0                  0.0                          0.0   \n",
              "\n",
              "    erc20 uniq rec token name  \n",
              "0                         1.0  \n",
              "\n",
              "[1 rows x 38 columns]"
            ],
            "text/html": [
              "\n",
              "  <div id=\"df-b0f721aa-9c85-4d1c-8a7c-d5d0209716fb\" class=\"colab-df-container\">\n",
              "    <div>\n",
              "<style scoped>\n",
              "    .dataframe tbody tr th:only-of-type {\n",
              "        vertical-align: middle;\n",
              "    }\n",
              "\n",
              "    .dataframe tbody tr th {\n",
              "        vertical-align: top;\n",
              "    }\n",
              "\n",
              "    .dataframe thead th {\n",
              "        text-align: right;\n",
              "    }\n",
              "</style>\n",
              "<table border=\"1\" class=\"dataframe\">\n",
              "  <thead>\n",
              "    <tr style=\"text-align: right;\">\n",
              "      <th></th>\n",
              "      <th>avg min between sent tnx</th>\n",
              "      <th>avg min between received tnx</th>\n",
              "      <th>time diff between first and last (mins)</th>\n",
              "      <th>sent tnx</th>\n",
              "      <th>received tnx</th>\n",
              "      <th>number of created contracts</th>\n",
              "      <th>unique received from addresses</th>\n",
              "      <th>unique sent to addresses</th>\n",
              "      <th>min value received</th>\n",
              "      <th>max value received</th>\n",
              "      <th>...</th>\n",
              "      <th>erc20 uniq sent addr.1</th>\n",
              "      <th>erc20 uniq rec contract addr</th>\n",
              "      <th>erc20 min val rec</th>\n",
              "      <th>erc20 max val rec</th>\n",
              "      <th>erc20 avg val rec</th>\n",
              "      <th>erc20 min val sent</th>\n",
              "      <th>erc20 max val sent</th>\n",
              "      <th>erc20 avg val sent</th>\n",
              "      <th>erc20 uniq sent token name</th>\n",
              "      <th>erc20 uniq rec token name</th>\n",
              "    </tr>\n",
              "  </thead>\n",
              "  <tbody>\n",
              "    <tr>\n",
              "      <th>0</th>\n",
              "      <td>2570.59</td>\n",
              "      <td>3336.01</td>\n",
              "      <td>30572.7</td>\n",
              "      <td>8</td>\n",
              "      <td>3</td>\n",
              "      <td>0</td>\n",
              "      <td>2</td>\n",
              "      <td>4</td>\n",
              "      <td>0.1</td>\n",
              "      <td>40.0</td>\n",
              "      <td>...</td>\n",
              "      <td>0.0</td>\n",
              "      <td>1.0</td>\n",
              "      <td>600.0</td>\n",
              "      <td>600.0</td>\n",
              "      <td>600.0</td>\n",
              "      <td>0.0</td>\n",
              "      <td>0.0</td>\n",
              "      <td>0.0</td>\n",
              "      <td>0.0</td>\n",
              "      <td>1.0</td>\n",
              "    </tr>\n",
              "  </tbody>\n",
              "</table>\n",
              "<p>1 rows × 38 columns</p>\n",
              "</div>\n",
              "    <div class=\"colab-df-buttons\">\n",
              "\n",
              "  <div class=\"colab-df-container\">\n",
              "    <button class=\"colab-df-convert\" onclick=\"convertToInteractive('df-b0f721aa-9c85-4d1c-8a7c-d5d0209716fb')\"\n",
              "            title=\"Convert this dataframe to an interactive table.\"\n",
              "            style=\"display:none;\">\n",
              "\n",
              "  <svg xmlns=\"http://www.w3.org/2000/svg\" height=\"24px\" viewBox=\"0 -960 960 960\">\n",
              "    <path d=\"M120-120v-720h720v720H120Zm60-500h600v-160H180v160Zm220 220h160v-160H400v160Zm0 220h160v-160H400v160ZM180-400h160v-160H180v160Zm440 0h160v-160H620v160ZM180-180h160v-160H180v160Zm440 0h160v-160H620v160Z\"/>\n",
              "  </svg>\n",
              "    </button>\n",
              "\n",
              "  <style>\n",
              "    .colab-df-container {\n",
              "      display:flex;\n",
              "      gap: 12px;\n",
              "    }\n",
              "\n",
              "    .colab-df-convert {\n",
              "      background-color: #E8F0FE;\n",
              "      border: none;\n",
              "      border-radius: 50%;\n",
              "      cursor: pointer;\n",
              "      display: none;\n",
              "      fill: #1967D2;\n",
              "      height: 32px;\n",
              "      padding: 0 0 0 0;\n",
              "      width: 32px;\n",
              "    }\n",
              "\n",
              "    .colab-df-convert:hover {\n",
              "      background-color: #E2EBFA;\n",
              "      box-shadow: 0px 1px 2px rgba(60, 64, 67, 0.3), 0px 1px 3px 1px rgba(60, 64, 67, 0.15);\n",
              "      fill: #174EA6;\n",
              "    }\n",
              "\n",
              "    .colab-df-buttons div {\n",
              "      margin-bottom: 4px;\n",
              "    }\n",
              "\n",
              "    [theme=dark] .colab-df-convert {\n",
              "      background-color: #3B4455;\n",
              "      fill: #D2E3FC;\n",
              "    }\n",
              "\n",
              "    [theme=dark] .colab-df-convert:hover {\n",
              "      background-color: #434B5C;\n",
              "      box-shadow: 0px 1px 3px 1px rgba(0, 0, 0, 0.15);\n",
              "      filter: drop-shadow(0px 1px 2px rgba(0, 0, 0, 0.3));\n",
              "      fill: #FFFFFF;\n",
              "    }\n",
              "  </style>\n",
              "\n",
              "    <script>\n",
              "      const buttonEl =\n",
              "        document.querySelector('#df-b0f721aa-9c85-4d1c-8a7c-d5d0209716fb button.colab-df-convert');\n",
              "      buttonEl.style.display =\n",
              "        google.colab.kernel.accessAllowed ? 'block' : 'none';\n",
              "\n",
              "      async function convertToInteractive(key) {\n",
              "        const element = document.querySelector('#df-b0f721aa-9c85-4d1c-8a7c-d5d0209716fb');\n",
              "        const dataTable =\n",
              "          await google.colab.kernel.invokeFunction('convertToInteractive',\n",
              "                                                    [key], {});\n",
              "        if (!dataTable) return;\n",
              "\n",
              "        const docLinkHtml = 'Like what you see? Visit the ' +\n",
              "          '<a target=\"_blank\" href=https://colab.research.google.com/notebooks/data_table.ipynb>data table notebook</a>'\n",
              "          + ' to learn more about interactive tables.';\n",
              "        element.innerHTML = '';\n",
              "        dataTable['output_type'] = 'display_data';\n",
              "        await google.colab.output.renderOutput(dataTable, element);\n",
              "        const docLink = document.createElement('div');\n",
              "        docLink.innerHTML = docLinkHtml;\n",
              "        element.appendChild(docLink);\n",
              "      }\n",
              "    </script>\n",
              "  </div>\n",
              "\n",
              "\n",
              "  <div id=\"id_f4a1c7f5-61ce-4cfe-8900-e4f51ac6e726\">\n",
              "    <style>\n",
              "      .colab-df-generate {\n",
              "        background-color: #E8F0FE;\n",
              "        border: none;\n",
              "        border-radius: 50%;\n",
              "        cursor: pointer;\n",
              "        display: none;\n",
              "        fill: #1967D2;\n",
              "        height: 32px;\n",
              "        padding: 0 0 0 0;\n",
              "        width: 32px;\n",
              "      }\n",
              "\n",
              "      .colab-df-generate:hover {\n",
              "        background-color: #E2EBFA;\n",
              "        box-shadow: 0px 1px 2px rgba(60, 64, 67, 0.3), 0px 1px 3px 1px rgba(60, 64, 67, 0.15);\n",
              "        fill: #174EA6;\n",
              "      }\n",
              "\n",
              "      [theme=dark] .colab-df-generate {\n",
              "        background-color: #3B4455;\n",
              "        fill: #D2E3FC;\n",
              "      }\n",
              "\n",
              "      [theme=dark] .colab-df-generate:hover {\n",
              "        background-color: #434B5C;\n",
              "        box-shadow: 0px 1px 3px 1px rgba(0, 0, 0, 0.15);\n",
              "        filter: drop-shadow(0px 1px 2px rgba(0, 0, 0, 0.3));\n",
              "        fill: #FFFFFF;\n",
              "      }\n",
              "    </style>\n",
              "    <button class=\"colab-df-generate\" onclick=\"generateWithVariable('new_data')\"\n",
              "            title=\"Generate code using this dataframe.\"\n",
              "            style=\"display:none;\">\n",
              "\n",
              "  <svg xmlns=\"http://www.w3.org/2000/svg\" height=\"24px\"viewBox=\"0 0 24 24\"\n",
              "       width=\"24px\">\n",
              "    <path d=\"M7,19H8.4L18.45,9,17,7.55,7,17.6ZM5,21V16.75L18.45,3.32a2,2,0,0,1,2.83,0l1.4,1.43a1.91,1.91,0,0,1,.58,1.4,1.91,1.91,0,0,1-.58,1.4L9.25,21ZM18.45,9,17,7.55Zm-12,3A5.31,5.31,0,0,0,4.9,8.1,5.31,5.31,0,0,0,1,6.5,5.31,5.31,0,0,0,4.9,4.9,5.31,5.31,0,0,0,6.5,1,5.31,5.31,0,0,0,8.1,4.9,5.31,5.31,0,0,0,12,6.5,5.46,5.46,0,0,0,6.5,12Z\"/>\n",
              "  </svg>\n",
              "    </button>\n",
              "    <script>\n",
              "      (() => {\n",
              "      const buttonEl =\n",
              "        document.querySelector('#id_f4a1c7f5-61ce-4cfe-8900-e4f51ac6e726 button.colab-df-generate');\n",
              "      buttonEl.style.display =\n",
              "        google.colab.kernel.accessAllowed ? 'block' : 'none';\n",
              "\n",
              "      buttonEl.onclick = () => {\n",
              "        google.colab.notebook.generateWithVariable('new_data');\n",
              "      }\n",
              "      })();\n",
              "    </script>\n",
              "  </div>\n",
              "\n",
              "    </div>\n",
              "  </div>\n"
            ],
            "application/vnd.google.colaboratory.intrinsic+json": {
              "type": "dataframe",
              "variable_name": "new_data"
            }
          },
          "metadata": {},
          "execution_count": 92
        }
      ],
      "source": [
        "# Data in its original format\n",
        "new_data"
      ]
    },
    {
      "cell_type": "code",
      "execution_count": 93,
      "metadata": {
        "id": "w_k4uAESzI37"
      },
      "outputs": [],
      "source": [
        "# Align the new dataset columns with the columns used in training\n",
        "new_data = new_data.reindex(columns=attributes, fill_value=0)\n",
        "\n",
        "# Apply the same pipeline used on the training data\n",
        "transformed_new_data = preprocessing_pipeline.transform(new_data)"
      ]
    },
    {
      "cell_type": "code",
      "execution_count": 94,
      "metadata": {
        "colab": {
          "base_uri": "https://localhost:8080/"
        },
        "id": "r5SWG5-nzI38",
        "outputId": "7dadea9a-a506-4694-b997-94e70efb2b5c"
      },
      "outputs": [
        {
          "output_type": "execute_result",
          "data": {
            "text/plain": [
              "array([[-1.74468652, -1.49029797, -0.11012514, -0.20890417, -0.5852175 ,\n",
              "        -0.14846488, -0.17435227, -0.02949086, -0.10071957, -0.08219271,\n",
              "        -0.12770293, -0.03945017, -0.0281488 , -0.04686515, -0.05420181,\n",
              "        -0.110975  ,  0.        , -0.01204994, -0.01204994, -0.20568049,\n",
              "        -0.02975031, -0.03630726, -0.01204994, -0.0197842 , -0.08228942,\n",
              "        -0.06411176, -0.01425745, -0.02258837, -0.05367989, -0.09036273,\n",
              "        -0.05319145, -0.22783703,  0.        ,  0.        ,  0.        ,\n",
              "         0.        ,  0.00627018, -0.05510854, -0.02401607, -0.01364824,\n",
              "        -0.0135741 , -0.01331307,  0.        ,  0.        ,  0.        ,\n",
              "        -0.21172682, -0.2313969 ]])"
            ]
          },
          "metadata": {},
          "execution_count": 94
        }
      ],
      "source": [
        "# Data in the format the model expects to receive\n",
        "transformed_new_data"
      ]
    },
    {
      "cell_type": "code",
      "execution_count": 95,
      "metadata": {
        "colab": {
          "base_uri": "https://localhost:8080/"
        },
        "id": "Z4JgOXnbzI38",
        "outputId": "dbc44778-c0cb-4aba-c859-714557f9a6f8"
      },
      "outputs": [
        {
          "output_type": "stream",
          "name": "stdout",
          "text": [
            "\u001b[1m1/1\u001b[0m \u001b[32m━━━━━━━━━━━━━━━━━━━━\u001b[0m\u001b[37m\u001b[0m \u001b[1m0s\u001b[0m 176ms/step\n"
          ]
        }
      ],
      "source": [
        "# Extract the prediction with the highest probability\n",
        "prediction = [np.argmax(x) for x in model.predict(transformed_new_data)]"
      ]
    },
    {
      "cell_type": "code",
      "execution_count": 96,
      "metadata": {
        "colab": {
          "base_uri": "https://localhost:8080/"
        },
        "id": "SFoRbyyszI38",
        "outputId": "2b51ee8d-8055-4564-9b6a-4499ce7bea77"
      },
      "outputs": [
        {
          "output_type": "execute_result",
          "data": {
            "text/plain": [
              "list"
            ]
          },
          "metadata": {},
          "execution_count": 96
        }
      ],
      "source": [
        "type(prediction)"
      ]
    },
    {
      "cell_type": "code",
      "execution_count": 97,
      "metadata": {
        "colab": {
          "base_uri": "https://localhost:8080/"
        },
        "id": "mLHIZgOmzI38",
        "outputId": "9a2e2d59-36cb-4a63-8545-6a937f99b623"
      },
      "outputs": [
        {
          "output_type": "stream",
          "name": "stdout",
          "text": [
            "According to the model, this transaction does not represent a Fraud.\n"
          ]
        }
      ],
      "source": [
        "# Result\n",
        "if prediction[0] == 0:\n",
        "    print(\"According to the model, this transaction does not represent a Fraud.\")\n",
        "else:\n",
        "    print(\"According to the model, this transaction might represent a Fraud. Trigger human verification!\")"
      ]
    },
    {
      "cell_type": "code",
      "execution_count": 98,
      "metadata": {
        "colab": {
          "base_uri": "https://localhost:8080/"
        },
        "id": "0_Yg9w9EzI38",
        "outputId": "bde263ce-9bb2-4061-e50d-d7679c7069aa"
      },
      "outputs": [
        {
          "output_type": "stream",
          "name": "stdout",
          "text": [
            "Author: panData\n",
            "\n"
          ]
        }
      ],
      "source": [
        "%watermark -a \"panData\""
      ]
    },
    {
      "cell_type": "code",
      "execution_count": 99,
      "metadata": {
        "id": "erPRInoLzI38"
      },
      "outputs": [],
      "source": [
        "#%watermark -v -m"
      ]
    },
    {
      "cell_type": "code",
      "execution_count": 100,
      "metadata": {
        "id": "QuANAVnOzI38"
      },
      "outputs": [],
      "source": [
        "#%watermark --iversions"
      ]
    },
    {
      "cell_type": "markdown",
      "metadata": {
        "id": "oK3Q1Z-LzI38"
      },
      "source": [
        "# The End"
      ]
    }
  ],
  "metadata": {
    "accelerator": "GPU",
    "colab": {
      "gpuType": "T4",
      "machine_shape": "hm",
      "provenance": []
    },
    "kernelspec": {
      "display_name": "Python 3 (ipykernel)",
      "language": "python",
      "name": "python3"
    },
    "language_info": {
      "codemirror_mode": {
        "name": "ipython",
        "version": 3
      },
      "file_extension": ".py",
      "mimetype": "text/x-python",
      "name": "python",
      "nbconvert_exporter": "python",
      "pygments_lexer": "ipython3",
      "version": "3.11.5"
    },
    "papermill": {
      "duration": 19.941404,
      "end_time": "2021-01-09T23:01:35.008480",
      "environment_variables": {},
      "exception": null,
      "input_path": "__notebook__.ipynb",
      "output_path": "__notebook__.ipynb",
      "parameters": {},
      "start_time": "2021-01-09T23:01:15.067076",
      "version": "2.1.0"
    }
  },
  "nbformat": 4,
  "nbformat_minor": 0
}